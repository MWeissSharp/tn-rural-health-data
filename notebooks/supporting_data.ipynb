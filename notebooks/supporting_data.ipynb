{
 "cells": [
  {
   "cell_type": "code",
   "execution_count": 1,
   "id": "25a49452",
   "metadata": {},
   "outputs": [],
   "source": [
    "import pandas as pd\n",
    "import matplotlib.pyplot as plt\n",
    "import numpy as np"
   ]
  },
  {
   "cell_type": "markdown",
   "id": "e5bada8c",
   "metadata": {},
   "source": [
    "#### Bringing in data from the Census Bureau's Small Area Health Insurance Information Estimates\n",
    "\n",
    "https://www.census.gov/programs-surveys/sahie.html"
   ]
  },
  {
   "attachments": {},
   "cell_type": "markdown",
   "id": "9c2a514d",
   "metadata": {},
   "source": [
    "###### Notes on values in table:  \n",
    "\n",
    "    Variable      Format      Description     \n",
    "       year            4      Year of Estimate\n",
    "       version         8      Release Version \n",
    "                                 Blank   : YEAR other than 2013\n",
    "                                 Original: 2013 only\n",
    "                                 Updated : 2013 only\n",
    "       statefips       2      Unique FIPS code for each state                   \n",
    "       countyfips      3      Unique FIPS code for each county within a state   \n",
    "       geocat          2      Geography category             \n",
    "                                40 - State geographic identifier \n",
    "                                50 - County geographic identifier\n",
    "       agecat          1      Age category        \n",
    "                                0 - Under 65 years\n",
    "                                1 - 18 to 64 years\n",
    "                                2 - 40 to 64 years\n",
    "                                3 - 50 to 64 years\n",
    "                                4 - Under 19 years\n",
    "                                5 - 21 to 64 years\n",
    "       racecat         1      Race category  \n",
    "                                0 - All races\n",
    "                                Only state estimates have racecat=1, 2, and 3 values\n",
    "                                1 - White alone (not Hispanic)\n",
    "                                2 - Black alone (not Hispanic)\n",
    "                                3 - Hispanic (any race)      \n",
    "       sexcat          1      Sex category    \n",
    "                                0 - Both sexes\n",
    "                                1 - Male      \n",
    "                                2 - Female    \n",
    "       iprcat          1      Income category \n",
    "                                0 - All income levels          \n",
    "                                1 - At or below 200% of poverty\n",
    "                                2 - At or below 250% of poverty\n",
    "                                3 - At or below 138% of poverty\n",
    "                                4 - At or below 400% of poverty\n",
    "                                5 - Between 138% - 400%  of poverty\n",
    "      NIPR             8      Number in demographic group for <income category>\n",
    "         nipr_moe      8           MOE  for NIPR\n",
    "      NUI              8      Number uninsured  \n",
    "         nui_moe       8           MOE  for NUI \n",
    "      NIC              8      Number insured    \n",
    "         nic_moe       8           MOE  for NIC \n",
    "      PCTUI            5.1    Percent uninsured in demographic group for <income category>\n",
    "         pctui_moe     5.1         MOE  for PCTUI                                 \n",
    "      PCTIC            5.1    Percent insured in demographic group for <income category>  \n",
    "         pctic_moe     5.1         MOE  for PCTIC                                 \n",
    "      PCTELIG          5.1    Percent uninsured in demographic group for all income levels\n",
    "         pctelig_moe   5.1         MOE  for PCTELIG                                \n",
    "      PCTLIIC          5.1    Percent insured in demographic group for all income levels  \n",
    "         pctliic_moe   5.1         MOE  for PCTLIIC                                \n",
    "      state_name       70     State Name\n",
    "      county_name      45     County Name"
   ]
  },
  {
   "cell_type": "code",
   "execution_count": 2,
   "id": "bf051ae0",
   "metadata": {},
   "outputs": [],
   "source": [
    "sahie = pd.read_csv('../capstone_data/sahie_2019.csv', header=79)\n",
    "\n",
    "sahie_tn = sahie.loc[sahie['statefips'] == 47]"
   ]
  },
  {
   "cell_type": "code",
   "execution_count": 3,
   "id": "cf945790",
   "metadata": {},
   "outputs": [],
   "source": [
    "sahie_tn = sahie_tn.drop(columns = ['year', 'version'])"
   ]
  },
  {
   "cell_type": "code",
   "execution_count": 22,
   "id": "ef2184aa",
   "metadata": {
    "scrolled": true
   },
   "outputs": [
    {
     "data": {
      "text/html": [
       "<div>\n",
       "<style scoped>\n",
       "    .dataframe tbody tr th:only-of-type {\n",
       "        vertical-align: middle;\n",
       "    }\n",
       "\n",
       "    .dataframe tbody tr th {\n",
       "        vertical-align: top;\n",
       "    }\n",
       "\n",
       "    .dataframe thead th {\n",
       "        text-align: right;\n",
       "    }\n",
       "</style>\n",
       "<table border=\"1\" class=\"dataframe\">\n",
       "  <thead>\n",
       "    <tr style=\"text-align: right;\">\n",
       "      <th></th>\n",
       "      <th>statefips</th>\n",
       "      <th>countyfips</th>\n",
       "      <th>geocat</th>\n",
       "      <th>agecat</th>\n",
       "      <th>racecat</th>\n",
       "      <th>sexcat</th>\n",
       "      <th>iprcat</th>\n",
       "      <th>NIPR</th>\n",
       "      <th>nipr_moe</th>\n",
       "      <th>NUI</th>\n",
       "      <th>...</th>\n",
       "      <th>PCTUI</th>\n",
       "      <th>pctui_moe</th>\n",
       "      <th>PCTIC</th>\n",
       "      <th>pctic_moe</th>\n",
       "      <th>PCTELIG</th>\n",
       "      <th>pctelig_moe</th>\n",
       "      <th>PCTLIIC</th>\n",
       "      <th>pctliic_moe</th>\n",
       "      <th>state_name</th>\n",
       "      <th>county_name</th>\n",
       "    </tr>\n",
       "  </thead>\n",
       "  <tbody>\n",
       "    <tr>\n",
       "      <th>9484</th>\n",
       "      <td>47</td>\n",
       "      <td>189</td>\n",
       "      <td>50</td>\n",
       "      <td>5</td>\n",
       "      <td>0</td>\n",
       "      <td>2</td>\n",
       "      <td>4</td>\n",
       "      <td>21026.0</td>\n",
       "      <td>841.0</td>\n",
       "      <td>3607.0</td>\n",
       "      <td>...</td>\n",
       "      <td>17.2</td>\n",
       "      <td>2.9</td>\n",
       "      <td>82.8</td>\n",
       "      <td>2.9</td>\n",
       "      <td>8.5</td>\n",
       "      <td>1.5</td>\n",
       "      <td>41.2</td>\n",
       "      <td>2.2</td>\n",
       "      <td>Tennessee                                     ...</td>\n",
       "      <td>Wilson County</td>\n",
       "    </tr>\n",
       "    <tr>\n",
       "      <th>9485</th>\n",
       "      <td>47</td>\n",
       "      <td>189</td>\n",
       "      <td>50</td>\n",
       "      <td>5</td>\n",
       "      <td>0</td>\n",
       "      <td>2</td>\n",
       "      <td>5</td>\n",
       "      <td>15917.0</td>\n",
       "      <td>752.0</td>\n",
       "      <td>2130.0</td>\n",
       "      <td>...</td>\n",
       "      <td>13.4</td>\n",
       "      <td>2.2</td>\n",
       "      <td>86.6</td>\n",
       "      <td>2.2</td>\n",
       "      <td>5.0</td>\n",
       "      <td>0.9</td>\n",
       "      <td>32.6</td>\n",
       "      <td>1.8</td>\n",
       "      <td>Tennessee                                     ...</td>\n",
       "      <td>Wilson County</td>\n",
       "    </tr>\n",
       "  </tbody>\n",
       "</table>\n",
       "<p>2 rows × 23 columns</p>\n",
       "</div>"
      ],
      "text/plain": [
       "      statefips  countyfips  geocat  agecat  racecat  sexcat  iprcat     NIPR  \\\n",
       "9484         47         189      50       5        0       2       4  21026.0   \n",
       "9485         47         189      50       5        0       2       5  15917.0   \n",
       "\n",
       "      nipr_moe     NUI  ...  PCTUI  pctui_moe  PCTIC  pctic_moe  PCTELIG  \\\n",
       "9484     841.0  3607.0  ...   17.2        2.9   82.8        2.9      8.5   \n",
       "9485     752.0  2130.0  ...   13.4        2.2   86.6        2.2      5.0   \n",
       "\n",
       "      pctelig_moe  PCTLIIC  pctliic_moe  \\\n",
       "9484          1.5     41.2          2.2   \n",
       "9485          0.9     32.6          1.8   \n",
       "\n",
       "                                             state_name  \\\n",
       "9484  Tennessee                                     ...   \n",
       "9485  Tennessee                                     ...   \n",
       "\n",
       "                                        county_name  \n",
       "9484  Wilson County                                  \n",
       "9485  Wilson County                                  \n",
       "\n",
       "[2 rows x 23 columns]"
      ]
     },
     "execution_count": 22,
     "metadata": {},
     "output_type": "execute_result"
    }
   ],
   "source": [
    "sahie_tn = sahie_tn.reset_index(drop=True)\n",
    "sahie_tn.tail(2)"
   ]
  },
  {
   "cell_type": "code",
   "execution_count": 6,
   "id": "fd1c9e9c",
   "metadata": {},
   "outputs": [],
   "source": [
    "#sahie_tn.to_csv('../capstone_data/sahie_tn.csv')"
   ]
  },
  {
   "cell_type": "code",
   "execution_count": 38,
   "id": "67a07d9b",
   "metadata": {},
   "outputs": [
    {
     "name": "stdout",
     "output_type": "stream",
     "text": [
      "<class 'pandas.core.frame.DataFrame'>\n",
      "RangeIndex: 95 entries, 0 to 94\n",
      "Data columns (total 8 columns):\n",
      " #   Column                                                   Non-Null Count  Dtype  \n",
      "---  ------                                                   --------------  -----  \n",
      " 0   County                                                   95 non-null     object \n",
      " 1   State                                                    95 non-null     object \n",
      " 2   # of Families with Income Below 1.00 Times the U.S. FPL  95 non-null     int64  \n",
      " 3   # of Families with Income Below 1.50 Times the U.S. FPL  95 non-null     int64  \n",
      " 4   # of Families with Income Below 2.00 Times the U.S. FPL  95 non-null     int64  \n",
      " 5   % of Families with Income Below 1.00 Times the U.S. FPL  95 non-null     float64\n",
      " 6   % of Families with Income Below 1.50 Times the U.S. FPL  95 non-null     float64\n",
      " 7   % of Families with Income Below 2.00 Times the U.S. FPL  95 non-null     float64\n",
      "dtypes: float64(3), int64(3), object(2)\n",
      "memory usage: 6.1+ KB\n"
     ]
    }
   ],
   "source": [
    "hrsa_poverty = pd.read_excel('../capstone_data/HRSA_poverty_details.xlsx')\n",
    "\n",
    "hrsa_poverty = hrsa_poverty.drop(columns = ['State County FIPS Code', 'Geography Type'])\n",
    "\n",
    "hrsa_poverty.info()"
   ]
  },
  {
   "cell_type": "code",
   "execution_count": 40,
   "id": "eb39d983",
   "metadata": {},
   "outputs": [],
   "source": [
    "#hrsa_poverty.to_csv('../capstone_data/tn_poverty.csv')"
   ]
  },
  {
   "cell_type": "code",
   "execution_count": 39,
   "id": "ee009410",
   "metadata": {},
   "outputs": [
    {
     "name": "stderr",
     "output_type": "stream",
     "text": [
      "C:\\Users\\mews2\\AppData\\Local\\Temp\\ipykernel_7968\\838711512.py:4: SettingWithCopyWarning: \n",
      "A value is trying to be set on a copy of a slice from a DataFrame.\n",
      "Try using .loc[row_indexer,col_indexer] = value instead\n",
      "\n",
      "See the caveats in the documentation: https://pandas.pydata.org/pandas-docs/stable/user_guide/indexing.html#returning-a-view-versus-a-copy\n",
      "  unemployment_tn['County Name/State Abbreviation'] = unemployment_tn['County Name/State Abbreviation'].str.replace(', TN', '')\n",
      "C:\\Users\\mews2\\AppData\\Local\\Temp\\ipykernel_7968\\838711512.py:5: SettingWithCopyWarning: \n",
      "A value is trying to be set on a copy of a slice from a DataFrame.\n",
      "Try using .loc[row_indexer,col_indexer] = value instead\n",
      "\n",
      "See the caveats in the documentation: https://pandas.pydata.org/pandas-docs/stable/user_guide/indexing.html#returning-a-view-versus-a-copy\n",
      "  unemployment_tn['State'] = 'TN'\n"
     ]
    },
    {
     "data": {
      "text/html": [
       "<div>\n",
       "<style scoped>\n",
       "    .dataframe tbody tr th:only-of-type {\n",
       "        vertical-align: middle;\n",
       "    }\n",
       "\n",
       "    .dataframe tbody tr th {\n",
       "        vertical-align: top;\n",
       "    }\n",
       "\n",
       "    .dataframe thead th {\n",
       "        text-align: right;\n",
       "    }\n",
       "</style>\n",
       "<table border=\"1\" class=\"dataframe\">\n",
       "  <thead>\n",
       "    <tr style=\"text-align: right;\">\n",
       "      <th></th>\n",
       "      <th>County</th>\n",
       "      <th>Labor Force</th>\n",
       "      <th>Employed</th>\n",
       "      <th>Unemployed</th>\n",
       "      <th>Unemployment Rate (%)</th>\n",
       "      <th>State</th>\n",
       "    </tr>\n",
       "  </thead>\n",
       "  <tbody>\n",
       "    <tr>\n",
       "      <th>44382</th>\n",
       "      <td>Williamson County</td>\n",
       "      <td>140568.0</td>\n",
       "      <td>136579.0</td>\n",
       "      <td>3989.0</td>\n",
       "      <td>2.8</td>\n",
       "      <td>TN</td>\n",
       "    </tr>\n",
       "    <tr>\n",
       "      <th>44383</th>\n",
       "      <td>Wilson County</td>\n",
       "      <td>83532.0</td>\n",
       "      <td>80836.0</td>\n",
       "      <td>2696.0</td>\n",
       "      <td>3.2</td>\n",
       "      <td>TN</td>\n",
       "    </tr>\n",
       "  </tbody>\n",
       "</table>\n",
       "</div>"
      ],
      "text/plain": [
       "                  County  Labor Force  Employed  Unemployed  \\\n",
       "44382  Williamson County     140568.0  136579.0      3989.0   \n",
       "44383      Wilson County      83532.0   80836.0      2696.0   \n",
       "\n",
       "      Unemployment Rate (%) State  \n",
       "44382                   2.8    TN  \n",
       "44383                   3.2    TN  "
      ]
     },
     "execution_count": 39,
     "metadata": {},
     "output_type": "execute_result"
    }
   ],
   "source": [
    "unemployment = pd.read_excel('../capstone_data/unemployment_by_county.xlsx', header=4)\n",
    "\n",
    "unemployment_tn = unemployment.loc[unemployment['State FIPSCode'] == 47]\n",
    "unemployment_tn['County Name/State Abbreviation'] = unemployment_tn['County Name/State Abbreviation'].str.replace(', TN', '')\n",
    "unemployment_tn['State'] = 'TN'\n",
    "unemployment_tn = unemployment_tn.rename(columns = {'County Name/State Abbreviation' : 'County'})\n",
    "\n",
    "unemployment_tn = unemployment_tn.drop(columns = ['LAUS Code', 'State FIPSCode', 'County FIPS Code', 'Period'])\n",
    "\n",
    "unemployment_tn.tail(2)"
   ]
  },
  {
   "cell_type": "code",
   "execution_count": 36,
   "id": "1c828080",
   "metadata": {
    "scrolled": true
   },
   "outputs": [
    {
     "name": "stdout",
     "output_type": "stream",
     "text": [
      "<class 'pandas.core.frame.DataFrame'>\n",
      "Int64Index: 1330 entries, 2429 to 44383\n",
      "Data columns (total 9 columns):\n",
      " #   Column                          Non-Null Count  Dtype  \n",
      "---  ------                          --------------  -----  \n",
      " 0   LAUS Code                       1330 non-null   object \n",
      " 1   State FIPSCode                  1330 non-null   float64\n",
      " 2   County FIPS Code                1330 non-null   float64\n",
      " 3   County Name/State Abbreviation  1330 non-null   object \n",
      " 4   Period                          1330 non-null   object \n",
      " 5   Labor Force                     1330 non-null   float64\n",
      " 6   Employed                        1330 non-null   float64\n",
      " 7   Unemployed                      1330 non-null   float64\n",
      " 8   Unemployment Rate (%)           1330 non-null   object \n",
      "dtypes: float64(5), object(4)\n",
      "memory usage: 103.9+ KB\n"
     ]
    }
   ],
   "source": [
    "unemployment_tn.info()"
   ]
  },
  {
   "cell_type": "code",
   "execution_count": null,
   "id": "56866e98",
   "metadata": {},
   "outputs": [],
   "source": []
  }
 ],
 "metadata": {
  "kernelspec": {
   "display_name": "Python [conda env:geo_env] *",
   "language": "python",
   "name": "conda-env-geo_env-py"
  },
  "language_info": {
   "codemirror_mode": {
    "name": "ipython",
    "version": 3
   },
   "file_extension": ".py",
   "mimetype": "text/x-python",
   "name": "python",
   "nbconvert_exporter": "python",
   "pygments_lexer": "ipython3",
   "version": "3.10.5"
  }
 },
 "nbformat": 4,
 "nbformat_minor": 5
}
