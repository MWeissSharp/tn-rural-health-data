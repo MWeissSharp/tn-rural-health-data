{
 "cells": [
  {
   "cell_type": "code",
   "execution_count": 1,
   "id": "51919e50",
   "metadata": {},
   "outputs": [],
   "source": [
    "import pandas as pd\n",
    "import matplotlib.pyplot as plt\n",
    "import numpy as np"
   ]
  },
  {
   "cell_type": "markdown",
   "id": "bf14ecf7",
   "metadata": {},
   "source": [
    "#### This notebook provides initial exploratory analysis of the HPSA designations\n",
    "Info about HPSAs:\n",
    "    -https://bhw.hrsa.gov/workforce-shortage-areas/shortage-designation\n",
    "    -https://bhw.hrsa.gov/workforce-shortage-areas/shortage-designation/scoring\n",
    "    -https://bhw.hrsa.gov/workforce-shortage-areas/shortage-designation/modernization-project"
   ]
  },
  {
   "cell_type": "code",
   "execution_count": 2,
   "id": "2f07a282",
   "metadata": {
    "scrolled": true
   },
   "outputs": [
    {
     "data": {
      "text/html": [
       "<div>\n",
       "<style scoped>\n",
       "    .dataframe tbody tr th:only-of-type {\n",
       "        vertical-align: middle;\n",
       "    }\n",
       "\n",
       "    .dataframe tbody tr th {\n",
       "        vertical-align: top;\n",
       "    }\n",
       "\n",
       "    .dataframe thead th {\n",
       "        text-align: right;\n",
       "    }\n",
       "</style>\n",
       "<table border=\"1\" class=\"dataframe\">\n",
       "  <thead>\n",
       "    <tr style=\"text-align: right;\">\n",
       "      <th></th>\n",
       "      <th>HPSA Name</th>\n",
       "      <th>HPSA ID</th>\n",
       "      <th>Designation Type</th>\n",
       "      <th>HPSA Discipline Class</th>\n",
       "      <th>HPSA Score</th>\n",
       "      <th>State</th>\n",
       "      <th>HPSA Status</th>\n",
       "      <th>HPSA Designation Date</th>\n",
       "      <th>HPSA Designation Last Update</th>\n",
       "      <th>Withdrawn Date</th>\n",
       "      <th>...</th>\n",
       "      <th>% of Population Below 100% Poverty</th>\n",
       "      <th>HPSA Formal Ratio</th>\n",
       "      <th>Address</th>\n",
       "      <th>City</th>\n",
       "      <th>ZIP</th>\n",
       "      <th>HHS Region</th>\n",
       "      <th>Rural Status</th>\n",
       "      <th>Longitude</th>\n",
       "      <th>Latitude</th>\n",
       "      <th>County</th>\n",
       "    </tr>\n",
       "  </thead>\n",
       "  <tbody>\n",
       "    <tr>\n",
       "      <th>0</th>\n",
       "      <td>Overton</td>\n",
       "      <td>147133</td>\n",
       "      <td>Geographic HPSA</td>\n",
       "      <td>Primary Care</td>\n",
       "      <td>0</td>\n",
       "      <td>TN</td>\n",
       "      <td>Withdrawn</td>\n",
       "      <td>12/17/1980</td>\n",
       "      <td>01/21/1994</td>\n",
       "      <td>01/21/1994</td>\n",
       "      <td>...</td>\n",
       "      <td>17.9</td>\n",
       "      <td>3172:1</td>\n",
       "      <td>NaN</td>\n",
       "      <td>NaN</td>\n",
       "      <td>NaN</td>\n",
       "      <td>Region 4                                      ...</td>\n",
       "      <td>Rural</td>\n",
       "      <td>NaN</td>\n",
       "      <td>NaN</td>\n",
       "      <td>Overton County, TN</td>\n",
       "    </tr>\n",
       "    <tr>\n",
       "      <th>1</th>\n",
       "      <td>WTPC, LLC</td>\n",
       "      <td>1471038172</td>\n",
       "      <td>Rural Health Clinic</td>\n",
       "      <td>Primary Care</td>\n",
       "      <td>17</td>\n",
       "      <td>TN</td>\n",
       "      <td>Designated</td>\n",
       "      <td>09/30/2021</td>\n",
       "      <td>09/30/2021</td>\n",
       "      <td>NaN</td>\n",
       "      <td>...</td>\n",
       "      <td>NaN</td>\n",
       "      <td>NaN</td>\n",
       "      <td>557 W Park Pl</td>\n",
       "      <td>Henderson</td>\n",
       "      <td>38340-2027</td>\n",
       "      <td>Region 4                                      ...</td>\n",
       "      <td>Rural</td>\n",
       "      <td>-88.661904</td>\n",
       "      <td>35.442291</td>\n",
       "      <td>Chester County, TN</td>\n",
       "    </tr>\n",
       "    <tr>\n",
       "      <th>2</th>\n",
       "      <td>Decatur</td>\n",
       "      <td>147039</td>\n",
       "      <td>Geographic HPSA</td>\n",
       "      <td>Primary Care</td>\n",
       "      <td>0</td>\n",
       "      <td>TN</td>\n",
       "      <td>Withdrawn</td>\n",
       "      <td>07/19/1978</td>\n",
       "      <td>09/13/2010</td>\n",
       "      <td>09/13/2010</td>\n",
       "      <td>...</td>\n",
       "      <td>NaN</td>\n",
       "      <td>3651:1</td>\n",
       "      <td>NaN</td>\n",
       "      <td>NaN</td>\n",
       "      <td>NaN</td>\n",
       "      <td>Region 4                                      ...</td>\n",
       "      <td>Rural</td>\n",
       "      <td>NaN</td>\n",
       "      <td>NaN</td>\n",
       "      <td>Decatur County, TN</td>\n",
       "    </tr>\n",
       "    <tr>\n",
       "      <th>3</th>\n",
       "      <td>Health, Tennessee Dept Of</td>\n",
       "      <td>747999477U</td>\n",
       "      <td>Federally Qualified Health Center</td>\n",
       "      <td>Mental Health</td>\n",
       "      <td>19</td>\n",
       "      <td>TN</td>\n",
       "      <td>Designated</td>\n",
       "      <td>08/01/2015</td>\n",
       "      <td>09/11/2021</td>\n",
       "      <td>NaN</td>\n",
       "      <td>...</td>\n",
       "      <td>NaN</td>\n",
       "      <td>NaN</td>\n",
       "      <td>710 James Robertson Pkwy 64 Andrew Johnson Tower</td>\n",
       "      <td>Nashville</td>\n",
       "      <td>37243-0001</td>\n",
       "      <td>Region 4                                      ...</td>\n",
       "      <td>Non-Rural</td>\n",
       "      <td>-86.786927</td>\n",
       "      <td>36.167605</td>\n",
       "      <td>Davidson County, TN</td>\n",
       "    </tr>\n",
       "    <tr>\n",
       "      <th>4</th>\n",
       "      <td>TENNOVA URGENT CARE - SHELBYVILLE</td>\n",
       "      <td>747999477F</td>\n",
       "      <td>Rural Health Clinic</td>\n",
       "      <td>Mental Health</td>\n",
       "      <td>15</td>\n",
       "      <td>TN</td>\n",
       "      <td>Withdrawn</td>\n",
       "      <td>10/25/2010</td>\n",
       "      <td>02/06/2020</td>\n",
       "      <td>02/06/2020</td>\n",
       "      <td>...</td>\n",
       "      <td>NaN</td>\n",
       "      <td>NaN</td>\n",
       "      <td>1612 N Main St STE A</td>\n",
       "      <td>Shelbyville</td>\n",
       "      <td>37160-2392</td>\n",
       "      <td>Region 4                                      ...</td>\n",
       "      <td>Rural</td>\n",
       "      <td>-86.456820</td>\n",
       "      <td>35.506176</td>\n",
       "      <td>Bedford County, TN</td>\n",
       "    </tr>\n",
       "    <tr>\n",
       "      <th>...</th>\n",
       "      <td>...</td>\n",
       "      <td>...</td>\n",
       "      <td>...</td>\n",
       "      <td>...</td>\n",
       "      <td>...</td>\n",
       "      <td>...</td>\n",
       "      <td>...</td>\n",
       "      <td>...</td>\n",
       "      <td>...</td>\n",
       "      <td>...</td>\n",
       "      <td>...</td>\n",
       "      <td>...</td>\n",
       "      <td>...</td>\n",
       "      <td>...</td>\n",
       "      <td>...</td>\n",
       "      <td>...</td>\n",
       "      <td>...</td>\n",
       "      <td>...</td>\n",
       "      <td>...</td>\n",
       "      <td>...</td>\n",
       "      <td>...</td>\n",
       "    </tr>\n",
       "    <tr>\n",
       "      <th>606</th>\n",
       "      <td>LI-Loudon County</td>\n",
       "      <td>1473386147</td>\n",
       "      <td>HPSA Population</td>\n",
       "      <td>Primary Care</td>\n",
       "      <td>12</td>\n",
       "      <td>TN</td>\n",
       "      <td>Designated</td>\n",
       "      <td>03/18/2022</td>\n",
       "      <td>03/18/2022</td>\n",
       "      <td>NaN</td>\n",
       "      <td>...</td>\n",
       "      <td>11.2</td>\n",
       "      <td>4163:1</td>\n",
       "      <td>NaN</td>\n",
       "      <td>NaN</td>\n",
       "      <td>NaN</td>\n",
       "      <td>Region 4                                      ...</td>\n",
       "      <td>Non-Rural</td>\n",
       "      <td>NaN</td>\n",
       "      <td>NaN</td>\n",
       "      <td>Loudon County, TN</td>\n",
       "    </tr>\n",
       "    <tr>\n",
       "      <th>607</th>\n",
       "      <td>LI-Putnam/White Counties</td>\n",
       "      <td>1472793573</td>\n",
       "      <td>HPSA Population</td>\n",
       "      <td>Primary Care</td>\n",
       "      <td>16</td>\n",
       "      <td>TN</td>\n",
       "      <td>Proposed For Withdrawal</td>\n",
       "      <td>03/22/2012</td>\n",
       "      <td>09/10/2021</td>\n",
       "      <td>NaN</td>\n",
       "      <td>...</td>\n",
       "      <td>24.3</td>\n",
       "      <td>5114:1</td>\n",
       "      <td>NaN</td>\n",
       "      <td>NaN</td>\n",
       "      <td>NaN</td>\n",
       "      <td>Region 4                                      ...</td>\n",
       "      <td>Rural</td>\n",
       "      <td>NaN</td>\n",
       "      <td>NaN</td>\n",
       "      <td>Putnam County, TN | White County, TN</td>\n",
       "    </tr>\n",
       "    <tr>\n",
       "      <th>608</th>\n",
       "      <td>LI-McNairy County</td>\n",
       "      <td>1472279043</td>\n",
       "      <td>HPSA Population</td>\n",
       "      <td>Primary Care</td>\n",
       "      <td>17</td>\n",
       "      <td>TN</td>\n",
       "      <td>Designated</td>\n",
       "      <td>04/05/2022</td>\n",
       "      <td>04/05/2022</td>\n",
       "      <td>NaN</td>\n",
       "      <td>...</td>\n",
       "      <td>18.8</td>\n",
       "      <td>17452:1</td>\n",
       "      <td>NaN</td>\n",
       "      <td>NaN</td>\n",
       "      <td>NaN</td>\n",
       "      <td>Region 4                                      ...</td>\n",
       "      <td>Rural</td>\n",
       "      <td>NaN</td>\n",
       "      <td>NaN</td>\n",
       "      <td>McNairy County, TN</td>\n",
       "    </tr>\n",
       "    <tr>\n",
       "      <th>609</th>\n",
       "      <td>LI-Sevier County</td>\n",
       "      <td>1471717306</td>\n",
       "      <td>HPSA Population</td>\n",
       "      <td>Primary Care</td>\n",
       "      <td>14</td>\n",
       "      <td>TN</td>\n",
       "      <td>Designated</td>\n",
       "      <td>02/28/2014</td>\n",
       "      <td>09/10/2021</td>\n",
       "      <td>NaN</td>\n",
       "      <td>...</td>\n",
       "      <td>13.6</td>\n",
       "      <td>6807:1</td>\n",
       "      <td>NaN</td>\n",
       "      <td>NaN</td>\n",
       "      <td>NaN</td>\n",
       "      <td>Region 4                                      ...</td>\n",
       "      <td>Rural</td>\n",
       "      <td>NaN</td>\n",
       "      <td>NaN</td>\n",
       "      <td>Sevier County, TN</td>\n",
       "    </tr>\n",
       "    <tr>\n",
       "      <th>610</th>\n",
       "      <td>LI-Macon &amp;amp; Trousdale Counties</td>\n",
       "      <td>1471425309</td>\n",
       "      <td>HPSA Population</td>\n",
       "      <td>Primary Care</td>\n",
       "      <td>16</td>\n",
       "      <td>TN</td>\n",
       "      <td>Designated</td>\n",
       "      <td>04/05/2022</td>\n",
       "      <td>04/05/2022</td>\n",
       "      <td>NaN</td>\n",
       "      <td>...</td>\n",
       "      <td>15.2</td>\n",
       "      <td>8755:1</td>\n",
       "      <td>NaN</td>\n",
       "      <td>NaN</td>\n",
       "      <td>NaN</td>\n",
       "      <td>Region 4                                      ...</td>\n",
       "      <td>Rural</td>\n",
       "      <td>NaN</td>\n",
       "      <td>NaN</td>\n",
       "      <td>Macon County, TN | Trousdale County, TN</td>\n",
       "    </tr>\n",
       "  </tbody>\n",
       "</table>\n",
       "<p>611 rows × 26 columns</p>\n",
       "</div>"
      ],
      "text/plain": [
       "                             HPSA Name     HPSA ID  \\\n",
       "0                              Overton      147133   \n",
       "1                            WTPC, LLC  1471038172   \n",
       "2                              Decatur      147039   \n",
       "3            Health, Tennessee Dept Of  747999477U   \n",
       "4    TENNOVA URGENT CARE - SHELBYVILLE  747999477F   \n",
       "..                                 ...         ...   \n",
       "606                   LI-Loudon County  1473386147   \n",
       "607           LI-Putnam/White Counties  1472793573   \n",
       "608                  LI-McNairy County  1472279043   \n",
       "609                   LI-Sevier County  1471717306   \n",
       "610  LI-Macon &amp; Trousdale Counties  1471425309   \n",
       "\n",
       "                      Designation Type HPSA Discipline Class  HPSA Score  \\\n",
       "0                      Geographic HPSA          Primary Care           0   \n",
       "1                  Rural Health Clinic          Primary Care          17   \n",
       "2                      Geographic HPSA          Primary Care           0   \n",
       "3    Federally Qualified Health Center         Mental Health          19   \n",
       "4                  Rural Health Clinic         Mental Health          15   \n",
       "..                                 ...                   ...         ...   \n",
       "606                    HPSA Population          Primary Care          12   \n",
       "607                    HPSA Population          Primary Care          16   \n",
       "608                    HPSA Population          Primary Care          17   \n",
       "609                    HPSA Population          Primary Care          14   \n",
       "610                    HPSA Population          Primary Care          16   \n",
       "\n",
       "    State              HPSA Status HPSA Designation Date  \\\n",
       "0      TN                Withdrawn            12/17/1980   \n",
       "1      TN               Designated            09/30/2021   \n",
       "2      TN                Withdrawn            07/19/1978   \n",
       "3      TN               Designated            08/01/2015   \n",
       "4      TN                Withdrawn            10/25/2010   \n",
       "..    ...                      ...                   ...   \n",
       "606    TN               Designated            03/18/2022   \n",
       "607    TN  Proposed For Withdrawal            03/22/2012   \n",
       "608    TN               Designated            04/05/2022   \n",
       "609    TN               Designated            02/28/2014   \n",
       "610    TN               Designated            04/05/2022   \n",
       "\n",
       "    HPSA Designation Last Update Withdrawn Date  ...  \\\n",
       "0                     01/21/1994     01/21/1994  ...   \n",
       "1                     09/30/2021            NaN  ...   \n",
       "2                     09/13/2010     09/13/2010  ...   \n",
       "3                     09/11/2021            NaN  ...   \n",
       "4                     02/06/2020     02/06/2020  ...   \n",
       "..                           ...            ...  ...   \n",
       "606                   03/18/2022            NaN  ...   \n",
       "607                   09/10/2021            NaN  ...   \n",
       "608                   04/05/2022            NaN  ...   \n",
       "609                   09/10/2021            NaN  ...   \n",
       "610                   04/05/2022            NaN  ...   \n",
       "\n",
       "    % of Population Below 100% Poverty HPSA Formal Ratio  \\\n",
       "0                                 17.9            3172:1   \n",
       "1                                  NaN               NaN   \n",
       "2                                  NaN            3651:1   \n",
       "3                                  NaN               NaN   \n",
       "4                                  NaN               NaN   \n",
       "..                                 ...               ...   \n",
       "606                               11.2            4163:1   \n",
       "607                               24.3            5114:1   \n",
       "608                               18.8           17452:1   \n",
       "609                               13.6            6807:1   \n",
       "610                               15.2            8755:1   \n",
       "\n",
       "                                              Address         City  \\\n",
       "0                                                 NaN          NaN   \n",
       "1                                       557 W Park Pl    Henderson   \n",
       "2                                                 NaN          NaN   \n",
       "3    710 James Robertson Pkwy 64 Andrew Johnson Tower    Nashville   \n",
       "4                                1612 N Main St STE A  Shelbyville   \n",
       "..                                                ...          ...   \n",
       "606                                               NaN          NaN   \n",
       "607                                               NaN          NaN   \n",
       "608                                               NaN          NaN   \n",
       "609                                               NaN          NaN   \n",
       "610                                               NaN          NaN   \n",
       "\n",
       "            ZIP                                         HHS Region  \\\n",
       "0           NaN  Region 4                                      ...   \n",
       "1    38340-2027  Region 4                                      ...   \n",
       "2           NaN  Region 4                                      ...   \n",
       "3    37243-0001  Region 4                                      ...   \n",
       "4    37160-2392  Region 4                                      ...   \n",
       "..          ...                                                ...   \n",
       "606         NaN  Region 4                                      ...   \n",
       "607         NaN  Region 4                                      ...   \n",
       "608         NaN  Region 4                                      ...   \n",
       "609         NaN  Region 4                                      ...   \n",
       "610         NaN  Region 4                                      ...   \n",
       "\n",
       "     Rural Status  Longitude   Latitude  \\\n",
       "0           Rural        NaN        NaN   \n",
       "1           Rural -88.661904  35.442291   \n",
       "2           Rural        NaN        NaN   \n",
       "3       Non-Rural -86.786927  36.167605   \n",
       "4           Rural -86.456820  35.506176   \n",
       "..            ...        ...        ...   \n",
       "606     Non-Rural        NaN        NaN   \n",
       "607         Rural        NaN        NaN   \n",
       "608         Rural        NaN        NaN   \n",
       "609         Rural        NaN        NaN   \n",
       "610         Rural        NaN        NaN   \n",
       "\n",
       "                                      County  \n",
       "0                         Overton County, TN  \n",
       "1                         Chester County, TN  \n",
       "2                         Decatur County, TN  \n",
       "3                        Davidson County, TN  \n",
       "4                         Bedford County, TN  \n",
       "..                                       ...  \n",
       "606                        Loudon County, TN  \n",
       "607     Putnam County, TN | White County, TN  \n",
       "608                       McNairy County, TN  \n",
       "609                        Sevier County, TN  \n",
       "610  Macon County, TN | Trousdale County, TN  \n",
       "\n",
       "[611 rows x 26 columns]"
      ]
     },
     "execution_count": 2,
     "metadata": {},
     "output_type": "execute_result"
    }
   ],
   "source": [
    "tn_hpsa = pd.read_excel('../capstone_data/HRSA_HPSA_details.xlsx')\n",
    "tn_hpsa"
   ]
  },
  {
   "cell_type": "code",
   "execution_count": 3,
   "id": "67d14739",
   "metadata": {
    "scrolled": true
   },
   "outputs": [
    {
     "name": "stdout",
     "output_type": "stream",
     "text": [
      "<class 'pandas.core.frame.DataFrame'>\n",
      "Int64Index: 359 entries, 1 to 610\n",
      "Data columns (total 26 columns):\n",
      " #   Column                              Non-Null Count  Dtype  \n",
      "---  ------                              --------------  -----  \n",
      " 0   HPSA Name                           359 non-null    object \n",
      " 1   HPSA ID                             359 non-null    object \n",
      " 2   Designation Type                    359 non-null    object \n",
      " 3   HPSA Discipline Class               359 non-null    object \n",
      " 4   HPSA Score                          359 non-null    int64  \n",
      " 5   State                               359 non-null    object \n",
      " 6   HPSA Status                         359 non-null    object \n",
      " 7   HPSA Designation Date               359 non-null    object \n",
      " 8   HPSA Designation Last Update        359 non-null    object \n",
      " 9   Withdrawn Date                      0 non-null      object \n",
      " 10  Metropolitan Indicator              359 non-null    object \n",
      " 11  HPSA Population Type                219 non-null    object \n",
      " 12  HPSA Degree of Shortage             233 non-null    object \n",
      " 13  HPSA FTE                            236 non-null    float64\n",
      " 14  # of FTE Short                      233 non-null    float64\n",
      " 15  HPSA Designation Population         359 non-null    float64\n",
      " 16  % of Population Below 100% Poverty  219 non-null    float64\n",
      " 17  HPSA Formal Ratio                   190 non-null    object \n",
      " 18  Address                             140 non-null    object \n",
      " 19  City                                140 non-null    object \n",
      " 20  ZIP                                 140 non-null    object \n",
      " 21  HHS Region                          359 non-null    object \n",
      " 22  Rural Status                        359 non-null    object \n",
      " 23  Longitude                           140 non-null    float64\n",
      " 24  Latitude                            140 non-null    float64\n",
      " 25  County                              359 non-null    object \n",
      "dtypes: float64(6), int64(1), object(19)\n",
      "memory usage: 75.7+ KB\n"
     ]
    }
   ],
   "source": [
    "#creating dataframe of all active HPSA designations in TN\n",
    "tn_hpsa_active = tn_hpsa.loc[(tn_hpsa['HPSA Status'] != 'Withdrawn')]\n",
    "tn_hpsa_active.info()"
   ]
  },
  {
   "cell_type": "code",
   "execution_count": 4,
   "id": "b9894bec",
   "metadata": {
    "scrolled": true
   },
   "outputs": [
    {
     "name": "stderr",
     "output_type": "stream",
     "text": [
      "C:\\Users\\mews2\\AppData\\Local\\Temp\\ipykernel_31252\\1577410789.py:2: SettingWithCopyWarning: \n",
      "A value is trying to be set on a copy of a slice from a DataFrame.\n",
      "Try using .loc[row_indexer,col_indexer] = value instead\n",
      "\n",
      "See the caveats in the documentation: https://pandas.pydata.org/pandas-docs/stable/user_guide/indexing.html#returning-a-view-versus-a-copy\n",
      "  tn_hpsa_active.loc[tn_hpsa_active['County'].str.contains(pat='\\|'), ['Multi-County']] = 'Yes'\n",
      "C:\\Users\\mews2\\AppData\\Local\\Temp\\ipykernel_31252\\1577410789.py:6: SettingWithCopyWarning: \n",
      "A value is trying to be set on a copy of a slice from a DataFrame.\n",
      "Try using .loc[row_indexer,col_indexer] = value instead\n",
      "\n",
      "See the caveats in the documentation: https://pandas.pydata.org/pandas-docs/stable/user_guide/indexing.html#returning-a-view-versus-a-copy\n",
      "  tn_hpsa_active['County'] = tn_hpsa_active['County'].str.split('|')\n"
     ]
    },
    {
     "data": {
      "text/html": [
       "<div>\n",
       "<style scoped>\n",
       "    .dataframe tbody tr th:only-of-type {\n",
       "        vertical-align: middle;\n",
       "    }\n",
       "\n",
       "    .dataframe tbody tr th {\n",
       "        vertical-align: top;\n",
       "    }\n",
       "\n",
       "    .dataframe thead th {\n",
       "        text-align: right;\n",
       "    }\n",
       "</style>\n",
       "<table border=\"1\" class=\"dataframe\">\n",
       "  <thead>\n",
       "    <tr style=\"text-align: right;\">\n",
       "      <th></th>\n",
       "      <th>HPSA Name</th>\n",
       "      <th>HPSA ID</th>\n",
       "      <th>Designation Type</th>\n",
       "      <th>HPSA Discipline Class</th>\n",
       "      <th>HPSA Population Type</th>\n",
       "      <th>HPSA Score</th>\n",
       "      <th>HPSA Status</th>\n",
       "      <th>HPSA Designation Date</th>\n",
       "      <th>HPSA Designation Last Update</th>\n",
       "      <th>Withdrawn Date</th>\n",
       "      <th>...</th>\n",
       "      <th>City</th>\n",
       "      <th>State</th>\n",
       "      <th>County</th>\n",
       "      <th>HPSA FTE</th>\n",
       "      <th># of FTE Short</th>\n",
       "      <th>HPSA Formal Ratio</th>\n",
       "      <th>HPSA Designation Population</th>\n",
       "      <th>% of Population Below 100% Poverty</th>\n",
       "      <th>Metropolitan Indicator</th>\n",
       "      <th>Rural Status</th>\n",
       "    </tr>\n",
       "  </thead>\n",
       "  <tbody>\n",
       "    <tr>\n",
       "      <th>0</th>\n",
       "      <td>WTPC, LLC</td>\n",
       "      <td>1471038172</td>\n",
       "      <td>Rural Health Clinic</td>\n",
       "      <td>Primary Care</td>\n",
       "      <td>NaN</td>\n",
       "      <td>17</td>\n",
       "      <td>Designated</td>\n",
       "      <td>09/30/2021</td>\n",
       "      <td>09/30/2021</td>\n",
       "      <td>NaN</td>\n",
       "      <td>...</td>\n",
       "      <td>Henderson</td>\n",
       "      <td>TN</td>\n",
       "      <td>Chester County</td>\n",
       "      <td>NaN</td>\n",
       "      <td>NaN</td>\n",
       "      <td>NaN</td>\n",
       "      <td>59090.0</td>\n",
       "      <td>NaN</td>\n",
       "      <td>Unknown</td>\n",
       "      <td>Rural</td>\n",
       "    </tr>\n",
       "    <tr>\n",
       "      <th>1</th>\n",
       "      <td>Health, Tennessee Dept Of</td>\n",
       "      <td>747999477U</td>\n",
       "      <td>Federally Qualified Health Center</td>\n",
       "      <td>Mental Health</td>\n",
       "      <td>NaN</td>\n",
       "      <td>19</td>\n",
       "      <td>Designated</td>\n",
       "      <td>08/01/2015</td>\n",
       "      <td>09/11/2021</td>\n",
       "      <td>NaN</td>\n",
       "      <td>...</td>\n",
       "      <td>Nashville</td>\n",
       "      <td>TN</td>\n",
       "      <td>Davidson County</td>\n",
       "      <td>NaN</td>\n",
       "      <td>NaN</td>\n",
       "      <td>NaN</td>\n",
       "      <td>17229.0</td>\n",
       "      <td>NaN</td>\n",
       "      <td>Unknown</td>\n",
       "      <td>Non-Rural</td>\n",
       "    </tr>\n",
       "    <tr>\n",
       "      <th>2</th>\n",
       "      <td>Chota Community Health Services</td>\n",
       "      <td>7479994766</td>\n",
       "      <td>Federally Qualified Health Center</td>\n",
       "      <td>Mental Health</td>\n",
       "      <td>NaN</td>\n",
       "      <td>20</td>\n",
       "      <td>Designated</td>\n",
       "      <td>09/30/2005</td>\n",
       "      <td>09/11/2021</td>\n",
       "      <td>NaN</td>\n",
       "      <td>...</td>\n",
       "      <td>Vonore</td>\n",
       "      <td>TN</td>\n",
       "      <td>Monroe County</td>\n",
       "      <td>NaN</td>\n",
       "      <td>NaN</td>\n",
       "      <td>NaN</td>\n",
       "      <td>18944.0</td>\n",
       "      <td>NaN</td>\n",
       "      <td>Non-Metropolitan</td>\n",
       "      <td>Rural</td>\n",
       "    </tr>\n",
       "    <tr>\n",
       "      <th>3</th>\n",
       "      <td>Dayspring Health, Inc.</td>\n",
       "      <td>7479994750</td>\n",
       "      <td>Federally Qualified Health Center</td>\n",
       "      <td>Mental Health</td>\n",
       "      <td>NaN</td>\n",
       "      <td>21</td>\n",
       "      <td>Designated</td>\n",
       "      <td>11/26/2003</td>\n",
       "      <td>09/11/2021</td>\n",
       "      <td>NaN</td>\n",
       "      <td>...</td>\n",
       "      <td>Jellico</td>\n",
       "      <td>TN</td>\n",
       "      <td>Campbell County</td>\n",
       "      <td>NaN</td>\n",
       "      <td>NaN</td>\n",
       "      <td>NaN</td>\n",
       "      <td>24967.0</td>\n",
       "      <td>NaN</td>\n",
       "      <td>Non-Metropolitan</td>\n",
       "      <td>Rural</td>\n",
       "    </tr>\n",
       "    <tr>\n",
       "      <th>4</th>\n",
       "      <td>East Tennessee State University</td>\n",
       "      <td>7479994742</td>\n",
       "      <td>Federally Qualified Health Center</td>\n",
       "      <td>Mental Health</td>\n",
       "      <td>NaN</td>\n",
       "      <td>19</td>\n",
       "      <td>Designated</td>\n",
       "      <td>11/26/2003</td>\n",
       "      <td>09/11/2021</td>\n",
       "      <td>NaN</td>\n",
       "      <td>...</td>\n",
       "      <td>Johnson City</td>\n",
       "      <td>TN</td>\n",
       "      <td>Washington County</td>\n",
       "      <td>NaN</td>\n",
       "      <td>NaN</td>\n",
       "      <td>NaN</td>\n",
       "      <td>61116.0</td>\n",
       "      <td>NaN</td>\n",
       "      <td>Non-Metropolitan</td>\n",
       "      <td>Non-Rural</td>\n",
       "    </tr>\n",
       "    <tr>\n",
       "      <th>...</th>\n",
       "      <td>...</td>\n",
       "      <td>...</td>\n",
       "      <td>...</td>\n",
       "      <td>...</td>\n",
       "      <td>...</td>\n",
       "      <td>...</td>\n",
       "      <td>...</td>\n",
       "      <td>...</td>\n",
       "      <td>...</td>\n",
       "      <td>...</td>\n",
       "      <td>...</td>\n",
       "      <td>...</td>\n",
       "      <td>...</td>\n",
       "      <td>...</td>\n",
       "      <td>...</td>\n",
       "      <td>...</td>\n",
       "      <td>...</td>\n",
       "      <td>...</td>\n",
       "      <td>...</td>\n",
       "      <td>...</td>\n",
       "      <td>...</td>\n",
       "    </tr>\n",
       "    <tr>\n",
       "      <th>453</th>\n",
       "      <td>LI-Putnam/White Counties</td>\n",
       "      <td>1472793573</td>\n",
       "      <td>HPSA Population</td>\n",
       "      <td>Primary Care</td>\n",
       "      <td>Low Income Population HPSA</td>\n",
       "      <td>16</td>\n",
       "      <td>Proposed For Withdrawal</td>\n",
       "      <td>03/22/2012</td>\n",
       "      <td>09/10/2021</td>\n",
       "      <td>NaN</td>\n",
       "      <td>...</td>\n",
       "      <td>NaN</td>\n",
       "      <td>TN</td>\n",
       "      <td>White County</td>\n",
       "      <td>9.0721</td>\n",
       "      <td>6.3879</td>\n",
       "      <td>5114:1</td>\n",
       "      <td>46395.0</td>\n",
       "      <td>24.3</td>\n",
       "      <td>Unknown</td>\n",
       "      <td>Rural</td>\n",
       "    </tr>\n",
       "    <tr>\n",
       "      <th>454</th>\n",
       "      <td>LI-McNairy County</td>\n",
       "      <td>1472279043</td>\n",
       "      <td>HPSA Population</td>\n",
       "      <td>Primary Care</td>\n",
       "      <td>Low Income Population HPSA</td>\n",
       "      <td>17</td>\n",
       "      <td>Designated</td>\n",
       "      <td>04/05/2022</td>\n",
       "      <td>04/05/2022</td>\n",
       "      <td>NaN</td>\n",
       "      <td>...</td>\n",
       "      <td>NaN</td>\n",
       "      <td>TN</td>\n",
       "      <td>McNairy County</td>\n",
       "      <td>0.6700</td>\n",
       "      <td>3.2300</td>\n",
       "      <td>17452:1</td>\n",
       "      <td>11693.0</td>\n",
       "      <td>18.8</td>\n",
       "      <td>Unknown</td>\n",
       "      <td>Rural</td>\n",
       "    </tr>\n",
       "    <tr>\n",
       "      <th>455</th>\n",
       "      <td>LI-Sevier County</td>\n",
       "      <td>1471717306</td>\n",
       "      <td>HPSA Population</td>\n",
       "      <td>Primary Care</td>\n",
       "      <td>Low Income Population HPSA</td>\n",
       "      <td>14</td>\n",
       "      <td>Designated</td>\n",
       "      <td>02/28/2014</td>\n",
       "      <td>09/10/2021</td>\n",
       "      <td>NaN</td>\n",
       "      <td>...</td>\n",
       "      <td>NaN</td>\n",
       "      <td>TN</td>\n",
       "      <td>Sevier County</td>\n",
       "      <td>5.4700</td>\n",
       "      <td>6.9400</td>\n",
       "      <td>6807:1</td>\n",
       "      <td>37235.0</td>\n",
       "      <td>13.6</td>\n",
       "      <td>Unknown</td>\n",
       "      <td>Rural</td>\n",
       "    </tr>\n",
       "    <tr>\n",
       "      <th>456</th>\n",
       "      <td>LI-Macon &amp;amp; Trousdale Counties</td>\n",
       "      <td>1471425309</td>\n",
       "      <td>HPSA Population</td>\n",
       "      <td>Primary Care</td>\n",
       "      <td>Low Income Population HPSA</td>\n",
       "      <td>16</td>\n",
       "      <td>Designated</td>\n",
       "      <td>04/05/2022</td>\n",
       "      <td>04/05/2022</td>\n",
       "      <td>NaN</td>\n",
       "      <td>...</td>\n",
       "      <td>NaN</td>\n",
       "      <td>TN</td>\n",
       "      <td>Macon County</td>\n",
       "      <td>1.3900</td>\n",
       "      <td>2.6700</td>\n",
       "      <td>8755:1</td>\n",
       "      <td>12169.0</td>\n",
       "      <td>15.2</td>\n",
       "      <td>Unknown</td>\n",
       "      <td>Rural</td>\n",
       "    </tr>\n",
       "    <tr>\n",
       "      <th>457</th>\n",
       "      <td>LI-Macon &amp;amp; Trousdale Counties</td>\n",
       "      <td>1471425309</td>\n",
       "      <td>HPSA Population</td>\n",
       "      <td>Primary Care</td>\n",
       "      <td>Low Income Population HPSA</td>\n",
       "      <td>16</td>\n",
       "      <td>Designated</td>\n",
       "      <td>04/05/2022</td>\n",
       "      <td>04/05/2022</td>\n",
       "      <td>NaN</td>\n",
       "      <td>...</td>\n",
       "      <td>NaN</td>\n",
       "      <td>TN</td>\n",
       "      <td>Trousdale County</td>\n",
       "      <td>1.3900</td>\n",
       "      <td>2.6700</td>\n",
       "      <td>8755:1</td>\n",
       "      <td>12169.0</td>\n",
       "      <td>15.2</td>\n",
       "      <td>Unknown</td>\n",
       "      <td>Rural</td>\n",
       "    </tr>\n",
       "  </tbody>\n",
       "</table>\n",
       "<p>458 rows × 24 columns</p>\n",
       "</div>"
      ],
      "text/plain": [
       "                             HPSA Name     HPSA ID  \\\n",
       "0                            WTPC, LLC  1471038172   \n",
       "1            Health, Tennessee Dept Of  747999477U   \n",
       "2      Chota Community Health Services  7479994766   \n",
       "3               Dayspring Health, Inc.  7479994750   \n",
       "4      East Tennessee State University  7479994742   \n",
       "..                                 ...         ...   \n",
       "453           LI-Putnam/White Counties  1472793573   \n",
       "454                  LI-McNairy County  1472279043   \n",
       "455                   LI-Sevier County  1471717306   \n",
       "456  LI-Macon &amp; Trousdale Counties  1471425309   \n",
       "457  LI-Macon &amp; Trousdale Counties  1471425309   \n",
       "\n",
       "                      Designation Type HPSA Discipline Class  \\\n",
       "0                  Rural Health Clinic          Primary Care   \n",
       "1    Federally Qualified Health Center         Mental Health   \n",
       "2    Federally Qualified Health Center         Mental Health   \n",
       "3    Federally Qualified Health Center         Mental Health   \n",
       "4    Federally Qualified Health Center         Mental Health   \n",
       "..                                 ...                   ...   \n",
       "453                    HPSA Population          Primary Care   \n",
       "454                    HPSA Population          Primary Care   \n",
       "455                    HPSA Population          Primary Care   \n",
       "456                    HPSA Population          Primary Care   \n",
       "457                    HPSA Population          Primary Care   \n",
       "\n",
       "           HPSA Population Type  HPSA Score              HPSA Status  \\\n",
       "0                           NaN          17               Designated   \n",
       "1                           NaN          19               Designated   \n",
       "2                           NaN          20               Designated   \n",
       "3                           NaN          21               Designated   \n",
       "4                           NaN          19               Designated   \n",
       "..                          ...         ...                      ...   \n",
       "453  Low Income Population HPSA          16  Proposed For Withdrawal   \n",
       "454  Low Income Population HPSA          17               Designated   \n",
       "455  Low Income Population HPSA          14               Designated   \n",
       "456  Low Income Population HPSA          16               Designated   \n",
       "457  Low Income Population HPSA          16               Designated   \n",
       "\n",
       "    HPSA Designation Date HPSA Designation Last Update Withdrawn Date  ...  \\\n",
       "0              09/30/2021                   09/30/2021            NaN  ...   \n",
       "1              08/01/2015                   09/11/2021            NaN  ...   \n",
       "2              09/30/2005                   09/11/2021            NaN  ...   \n",
       "3              11/26/2003                   09/11/2021            NaN  ...   \n",
       "4              11/26/2003                   09/11/2021            NaN  ...   \n",
       "..                    ...                          ...            ...  ...   \n",
       "453            03/22/2012                   09/10/2021            NaN  ...   \n",
       "454            04/05/2022                   04/05/2022            NaN  ...   \n",
       "455            02/28/2014                   09/10/2021            NaN  ...   \n",
       "456            04/05/2022                   04/05/2022            NaN  ...   \n",
       "457            04/05/2022                   04/05/2022            NaN  ...   \n",
       "\n",
       "             City  State             County HPSA FTE # of FTE Short  \\\n",
       "0       Henderson     TN     Chester County      NaN            NaN   \n",
       "1       Nashville     TN    Davidson County      NaN            NaN   \n",
       "2          Vonore     TN      Monroe County      NaN            NaN   \n",
       "3         Jellico     TN    Campbell County      NaN            NaN   \n",
       "4    Johnson City     TN  Washington County      NaN            NaN   \n",
       "..            ...    ...                ...      ...            ...   \n",
       "453           NaN     TN       White County   9.0721         6.3879   \n",
       "454           NaN     TN     McNairy County   0.6700         3.2300   \n",
       "455           NaN     TN      Sevier County   5.4700         6.9400   \n",
       "456           NaN     TN       Macon County   1.3900         2.6700   \n",
       "457           NaN     TN   Trousdale County   1.3900         2.6700   \n",
       "\n",
       "    HPSA Formal Ratio HPSA Designation Population  \\\n",
       "0                 NaN                     59090.0   \n",
       "1                 NaN                     17229.0   \n",
       "2                 NaN                     18944.0   \n",
       "3                 NaN                     24967.0   \n",
       "4                 NaN                     61116.0   \n",
       "..                ...                         ...   \n",
       "453            5114:1                     46395.0   \n",
       "454           17452:1                     11693.0   \n",
       "455            6807:1                     37235.0   \n",
       "456            8755:1                     12169.0   \n",
       "457            8755:1                     12169.0   \n",
       "\n",
       "     % of Population Below 100% Poverty  Metropolitan Indicator Rural Status  \n",
       "0                                   NaN                 Unknown        Rural  \n",
       "1                                   NaN                 Unknown    Non-Rural  \n",
       "2                                   NaN        Non-Metropolitan        Rural  \n",
       "3                                   NaN        Non-Metropolitan        Rural  \n",
       "4                                   NaN        Non-Metropolitan    Non-Rural  \n",
       "..                                  ...                     ...          ...  \n",
       "453                                24.3                 Unknown        Rural  \n",
       "454                                18.8                 Unknown        Rural  \n",
       "455                                13.6                 Unknown        Rural  \n",
       "456                                15.2                 Unknown        Rural  \n",
       "457                                15.2                 Unknown        Rural  \n",
       "\n",
       "[458 rows x 24 columns]"
      ]
     },
     "execution_count": 4,
     "metadata": {},
     "output_type": "execute_result"
    }
   ],
   "source": [
    "#creating a column to identify those rows that contain HPSA designations that cover multiple counties\n",
    "tn_hpsa_active.loc[tn_hpsa_active['County'].str.contains(pat='\\|'), ['Multi-County']] = 'Yes'\n",
    "tn_hpsa_active.loc[~tn_hpsa_active['County'].str.contains(pat='\\|'), ['Multi-County']] = 'No'\n",
    "\n",
    "#Splitting out the multi-county designations so that each county is represented singley in its own row \n",
    "tn_hpsa_active['County'] = tn_hpsa_active['County'].str.split('|')\n",
    "tn_hpsa_active = tn_hpsa_active.apply(pd.Series.explode)\n",
    "tn_hpsa_active = tn_hpsa_active.reset_index(drop=True)\n",
    "tn_hpsa_active['County'] = tn_hpsa_active['County'].str.extract('(.+), TN')\n",
    "tn_hpsa_active['County'] = tn_hpsa_active['County'].str.strip()\n",
    "\n",
    "#dropping columns that aren't needed for this analysis\n",
    "tn_hpsa_active = tn_hpsa_active.drop(columns = ['HPSA Degree of Shortage', 'HHS Region'])\n",
    "\n",
    "#reorganizing columns to allow most pertinent to be readily visible in jupyter notebook\n",
    "tn_hpsa_active = tn_hpsa_active[['HPSA Name', 'HPSA ID', 'Designation Type', 'HPSA Discipline Class', 'HPSA Population Type',\n",
    "                   'HPSA Score', 'HPSA Status', 'HPSA Designation Date', 'HPSA Designation Last Update', 'Withdrawn Date', \n",
    "                   'Longitude', 'Latitude','Address', 'ZIP', 'City', 'State', 'County', \n",
    "                   'HPSA FTE', '# of FTE Short', 'HPSA Formal Ratio', 'HPSA Designation Population', \n",
    "                   '% of Population Below 100% Poverty', 'Metropolitan Indicator', 'Rural Status']]\n",
    "\n",
    "tn_hpsa_active"
   ]
  },
  {
   "cell_type": "code",
   "execution_count": 5,
   "id": "1bf773d4",
   "metadata": {},
   "outputs": [
    {
     "data": {
      "text/plain": [
       "Rural              274\n",
       "Non-Rural          107\n",
       "Partially Rural     77\n",
       "Name: Rural Status, dtype: int64"
      ]
     },
     "execution_count": 5,
     "metadata": {},
     "output_type": "execute_result"
    }
   ],
   "source": [
    "tn_hpsa_active['Rural Status'].value_counts()"
   ]
  },
  {
   "cell_type": "code",
   "execution_count": 6,
   "id": "c8067a2c",
   "metadata": {
    "scrolled": true
   },
   "outputs": [
    {
     "data": {
      "text/plain": [
       "{'Anderson County': 'Non-Rural',\n",
       " 'Bedford County': 'Rural',\n",
       " 'Benton County': 'Rural',\n",
       " 'Bledsoe County': 'Rural',\n",
       " 'Blount County': 'Partially Rural',\n",
       " 'Bradley County': 'Non-Rural',\n",
       " 'Campbell County': 'Rural',\n",
       " 'Cannon County': 'Rural',\n",
       " 'Carroll County': 'Rural',\n",
       " 'Carter County': 'Non-Rural',\n",
       " 'Cheatham County': 'Rural',\n",
       " 'Chester County': 'Rural',\n",
       " 'Claiborne County': 'Rural',\n",
       " 'Clay County': 'Rural',\n",
       " 'Cocke County': 'Rural',\n",
       " 'Coffee County': 'Rural',\n",
       " 'Crockett County': 'Rural',\n",
       " 'Cumberland County': 'Rural',\n",
       " 'Davidson County': 'Non-Rural',\n",
       " 'Decatur County': 'Rural',\n",
       " 'DeKalb County': 'Rural',\n",
       " 'Dickson County': 'Rural',\n",
       " 'Dyer County': 'Rural',\n",
       " 'Fayette County': 'Non-Rural',\n",
       " 'Fentress County': 'Rural',\n",
       " 'Franklin County': 'Rural',\n",
       " 'Gibson County': 'Rural',\n",
       " 'Giles County': 'Rural',\n",
       " 'Grainger County': 'Rural',\n",
       " 'Greene County': 'Rural',\n",
       " 'Grundy County': 'Rural',\n",
       " 'Hamblen County': 'Non-Rural',\n",
       " 'Hamilton County': 'Non-Rural',\n",
       " 'Hancock County': 'Rural',\n",
       " 'Hardeman County': 'Rural',\n",
       " 'Hardin County': 'Rural',\n",
       " 'Hawkins County': 'Partially Rural',\n",
       " 'Haywood County': 'Rural',\n",
       " 'Henderson County': 'Rural',\n",
       " 'Henry County': 'Rural',\n",
       " 'Hickman County': 'Rural',\n",
       " 'Houston County': 'Rural',\n",
       " 'Humphreys County': 'Rural',\n",
       " 'Jackson County': 'Rural',\n",
       " 'Jefferson County': 'Partially Rural',\n",
       " 'Johnson County': 'Rural',\n",
       " 'Knox County': 'Non-Rural',\n",
       " 'Lake County': 'Rural',\n",
       " 'Lauderdale County': 'Rural',\n",
       " 'Lawrence County': 'Rural',\n",
       " 'Lewis County': 'Rural',\n",
       " 'Lincoln County': 'Rural',\n",
       " 'Loudon County': 'Non-Rural',\n",
       " 'Macon County': 'Rural',\n",
       " 'Madison County': 'Partially Rural',\n",
       " 'Marion County': 'Rural',\n",
       " 'Marshall County': 'Rural',\n",
       " 'Maury County': 'Rural',\n",
       " 'McMinn County': 'Rural',\n",
       " 'McNairy County': 'Rural',\n",
       " 'Meigs County': 'Rural',\n",
       " 'Monroe County': 'Rural',\n",
       " 'Montgomery County': 'Non-Rural',\n",
       " 'Moore County': 'Rural',\n",
       " 'Morgan County': 'Non-Rural',\n",
       " 'Obion County': 'Rural',\n",
       " 'Overton County': 'Rural',\n",
       " 'Perry County': 'Rural',\n",
       " 'Pickett County': 'Rural',\n",
       " 'Polk County': 'Rural',\n",
       " 'Putnam County': 'Rural',\n",
       " 'Rhea County': 'Rural',\n",
       " 'Roane County': 'Non-Rural',\n",
       " 'Robertson County': 'Partially Rural',\n",
       " 'Rutherford County': 'Non-Rural',\n",
       " 'Scott County': 'Rural',\n",
       " 'Sequatchie County': 'Non-Rural',\n",
       " 'Sevier County': 'Rural',\n",
       " 'Shelby County': 'Non-Rural',\n",
       " 'Smith County': 'Rural',\n",
       " 'Stewart County': 'Rural',\n",
       " 'Sullivan County': 'Non-Rural',\n",
       " 'Sumner County': 'Non-Rural',\n",
       " 'Tipton County': 'Rural',\n",
       " 'Trousdale County': 'Rural',\n",
       " 'Unicoi County': 'Partially Rural',\n",
       " 'Union County': 'Rural',\n",
       " 'Van Buren County': 'Rural',\n",
       " 'Warren County': 'Rural',\n",
       " 'Washington County': 'Non-Rural',\n",
       " 'Wayne County': 'Rural',\n",
       " 'Weakley County': 'Rural',\n",
       " 'White County': 'Rural',\n",
       " 'Williamson County': 'Non-Rural',\n",
       " 'Wilson County': 'Partially Rural'}"
      ]
     },
     "execution_count": 6,
     "metadata": {},
     "output_type": "execute_result"
    }
   ],
   "source": [
    "#In the course of exploding the multi-county entries, some rural statuses are incorrect\n",
    "#Bringing in a file and creating a dictionary to correct this\n",
    "tn_rural_counties =  pd.read_csv('../capstone_data/tn_county_pop_rural.csv')\n",
    "county_rural_dict = tn_rural_counties.set_index('County')['HRSA Rural Status'].to_dict()\n",
    "county_rural_dict"
   ]
  },
  {
   "cell_type": "code",
   "execution_count": 12,
   "id": "1f027563",
   "metadata": {},
   "outputs": [
    {
     "data": {
      "text/html": [
       "<div>\n",
       "<style scoped>\n",
       "    .dataframe tbody tr th:only-of-type {\n",
       "        vertical-align: middle;\n",
       "    }\n",
       "\n",
       "    .dataframe tbody tr th {\n",
       "        vertical-align: top;\n",
       "    }\n",
       "\n",
       "    .dataframe thead th {\n",
       "        text-align: right;\n",
       "    }\n",
       "</style>\n",
       "<table border=\"1\" class=\"dataframe\">\n",
       "  <thead>\n",
       "    <tr style=\"text-align: right;\">\n",
       "      <th></th>\n",
       "      <th>HPSA Name</th>\n",
       "      <th>HPSA ID</th>\n",
       "      <th>Designation Type</th>\n",
       "      <th>HPSA Discipline Class</th>\n",
       "      <th>HPSA Population Type</th>\n",
       "      <th>HPSA Score</th>\n",
       "      <th>HPSA Status</th>\n",
       "      <th>HPSA Designation Date</th>\n",
       "      <th>HPSA Designation Last Update</th>\n",
       "      <th>Withdrawn Date</th>\n",
       "      <th>...</th>\n",
       "      <th>City</th>\n",
       "      <th>State</th>\n",
       "      <th>County</th>\n",
       "      <th>HPSA FTE</th>\n",
       "      <th># of FTE Short</th>\n",
       "      <th>HPSA Formal Ratio</th>\n",
       "      <th>HPSA Designation Population</th>\n",
       "      <th>% of Population Below 100% Poverty</th>\n",
       "      <th>Metropolitan Indicator</th>\n",
       "      <th>Rural Status</th>\n",
       "    </tr>\n",
       "  </thead>\n",
       "  <tbody>\n",
       "  </tbody>\n",
       "</table>\n",
       "<p>0 rows × 24 columns</p>\n",
       "</div>"
      ],
      "text/plain": [
       "Empty DataFrame\n",
       "Columns: [HPSA Name, HPSA ID, Designation Type, HPSA Discipline Class, HPSA Population Type, HPSA Score, HPSA Status, HPSA Designation Date, HPSA Designation Last Update, Withdrawn Date, Longitude, Latitude, Address, ZIP, City, State, County, HPSA FTE, # of FTE Short, HPSA Formal Ratio, HPSA Designation Population, % of Population Below 100% Poverty, Metropolitan Indicator, Rural Status]\n",
       "Index: []\n",
       "\n",
       "[0 rows x 24 columns]"
      ]
     },
     "execution_count": 12,
     "metadata": {},
     "output_type": "execute_result"
    }
   ],
   "source": [
    "tn_hpsa_active.loc[tn_hpsa_active['County'].isna()]"
   ]
  },
  {
   "cell_type": "code",
   "execution_count": 7,
   "id": "6681516b",
   "metadata": {
    "scrolled": false
   },
   "outputs": [
    {
     "data": {
      "text/plain": [
       "Rural              305\n",
       "Non-Rural          128\n",
       "Partially Rural     25\n",
       "Name: Rural Status, dtype: int64"
      ]
     },
     "execution_count": 7,
     "metadata": {},
     "output_type": "execute_result"
    }
   ],
   "source": [
    "tn_hpsa_active['Rural Status'] = tn_hpsa_active['County'].map(county_rural_dict)\n",
    "tn_hpsa_active['Rural Status'].value_counts()"
   ]
  },
  {
   "cell_type": "code",
   "execution_count": 9,
   "id": "6d6f2445",
   "metadata": {
    "scrolled": true
   },
   "outputs": [
    {
     "data": {
      "text/plain": [
       "Rural              230\n",
       "Non-Rural          115\n",
       "Partially Rural     14\n",
       "Name: Rural Status, dtype: int64"
      ]
     },
     "execution_count": 9,
     "metadata": {},
     "output_type": "execute_result"
    }
   ],
   "source": [
    "#the duplicated statement is accounting for those multi-county HPSAs that I exploded out into multiple rows\n",
    "tn_hpsa_active.loc[~tn_hpsa_active.duplicated(['HPSA ID'])]['Rural Status'].value_counts()"
   ]
  },
  {
   "cell_type": "code",
   "execution_count": 10,
   "id": "6e02f26a",
   "metadata": {},
   "outputs": [],
   "source": [
    "#tn_hpsa_active.to_csv('../capstone_data/tn_hpsa.csv')"
   ]
  },
  {
   "cell_type": "code",
   "execution_count": null,
   "id": "3b6f9322",
   "metadata": {},
   "outputs": [],
   "source": [
    "tn_hpsa_active.loc[~tn_hpsa_active.duplicated(['HPSA ID'])]['Rural Status'].value_counts(normalize=True)"
   ]
  },
  {
   "cell_type": "code",
   "execution_count": null,
   "id": "e731f278",
   "metadata": {
    "scrolled": false
   },
   "outputs": [],
   "source": [
    "tn_hpsa_active.loc[~tn_hpsa_active.duplicated(['HPSA ID'])]['HPSA Discipline Class'].value_counts()"
   ]
  },
  {
   "cell_type": "code",
   "execution_count": null,
   "id": "db73fb62",
   "metadata": {},
   "outputs": [],
   "source": [
    "tn_hpsa_active.loc[~tn_hpsa_active.duplicated(['HPSA ID'])]['HPSA Discipline Class'].value_counts(normalize=True)"
   ]
  },
  {
   "cell_type": "code",
   "execution_count": null,
   "id": "b6fe13b8",
   "metadata": {},
   "outputs": [],
   "source": [
    "tn_hpsa_active.loc[~tn_hpsa_active.duplicated(['HPSA ID'])]['Designation Type'].value_counts()"
   ]
  },
  {
   "cell_type": "code",
   "execution_count": null,
   "id": "b0097f1a",
   "metadata": {},
   "outputs": [],
   "source": [
    "tn_hpsa_active.loc[~tn_hpsa_active.duplicated(['HPSA ID'])]['Designation Type'].value_counts(normalize=True)"
   ]
  },
  {
   "cell_type": "code",
   "execution_count": null,
   "id": "19094481",
   "metadata": {},
   "outputs": [],
   "source": []
  },
  {
   "cell_type": "markdown",
   "id": "0168abbb",
   "metadata": {},
   "source": [
    "### The next section hones in on those HPSA designations that are currently active and apply to rural and partially-rural areas"
   ]
  },
  {
   "cell_type": "code",
   "execution_count": null,
   "id": "c7235823",
   "metadata": {
    "scrolled": true
   },
   "outputs": [],
   "source": [
    "tn_rur_hpsa = tn_hpsa.loc[(tn_hpsa['HPSA Status'] != 'Withdrawn')\n",
    "                         & (tn_hpsa['Rural Status'] != 'Non-Rural')].reset_index(drop=True)\n",
    "tn_rur_hpsa.info()"
   ]
  },
  {
   "cell_type": "code",
   "execution_count": null,
   "id": "e27758bf",
   "metadata": {
    "scrolled": false
   },
   "outputs": [],
   "source": [
    "tn_rur_hpsa.loc[~tn_rur_hpsa.duplicated(['HPSA ID'])]['Rural Status'].value_counts()"
   ]
  },
  {
   "cell_type": "code",
   "execution_count": null,
   "id": "878e212a",
   "metadata": {
    "scrolled": true
   },
   "outputs": [],
   "source": [
    "tn_rur_hpsa.loc[~tn_rur_hpsa.duplicated(['HPSA ID'])]['Rural Status'].value_counts(normalize=True)"
   ]
  },
  {
   "cell_type": "code",
   "execution_count": null,
   "id": "f2f02e28",
   "metadata": {
    "scrolled": false
   },
   "outputs": [],
   "source": [
    "tn_rur_hpsa.loc[~tn_rur_hpsa.duplicated(['HPSA ID'])]['Designation Type'].value_counts()"
   ]
  },
  {
   "cell_type": "code",
   "execution_count": null,
   "id": "baeb3a07",
   "metadata": {
    "scrolled": false
   },
   "outputs": [],
   "source": [
    "tn_rur_hpsa.loc[~tn_rur_hpsa.duplicated(['HPSA ID'])]['Designation Type'].value_counts(normalize=True)"
   ]
  },
  {
   "cell_type": "code",
   "execution_count": null,
   "id": "dd8acdd4",
   "metadata": {
    "scrolled": true
   },
   "outputs": [],
   "source": [
    "tn_rur_hpsa.loc[~tn_rur_hpsa.duplicated(['HPSA ID'])]['HPSA Status'].value_counts()"
   ]
  },
  {
   "cell_type": "code",
   "execution_count": null,
   "id": "9b31aac0",
   "metadata": {},
   "outputs": [],
   "source": [
    "tn_rur_hpsa.loc[~tn_rur_hpsa.duplicated(['HPSA ID'])]['HPSA Discipline Class'].value_counts()"
   ]
  },
  {
   "cell_type": "code",
   "execution_count": null,
   "id": "3143b8a0",
   "metadata": {},
   "outputs": [],
   "source": [
    "tn_rur_hpsa.loc[~tn_rur_hpsa.duplicated(['HPSA ID'])]['HPSA Discipline Class'].value_counts(normalize=True)"
   ]
  },
  {
   "cell_type": "code",
   "execution_count": null,
   "id": "804c9075",
   "metadata": {
    "scrolled": true
   },
   "outputs": [],
   "source": [
    "#splitting out the different types of HPSA designations (facility, geographic, population)\n",
    "tn_rur_hpsa_fac = tn_rur_hpsa.loc[tn_rur_hpsa['Designation Type'].isin(['Federally Qualified Health Center', \n",
    "                                                                       'Rural Health Clinic', \n",
    "                                                                        'Federally Qualified Health Center Look A Like'])]\n",
    "tn_rur_hpsa_geo = tn_rur_hpsa.loc[tn_rur_hpsa['Designation Type'].isin(['Geographic HPSA', \n",
    "                                                                       'High Needs Geographic HPSA'])]\n",
    "tn_rur_hpsa_pop = tn_rur_hpsa.loc[tn_rur_hpsa['Designation Type'] =='HPSA Population']"
   ]
  },
  {
   "cell_type": "markdown",
   "id": "674c7b91",
   "metadata": {},
   "source": [
    "#### Facility-based HPSA info"
   ]
  },
  {
   "cell_type": "code",
   "execution_count": null,
   "id": "fc54ca85",
   "metadata": {
    "scrolled": false
   },
   "outputs": [],
   "source": [
    "tn_rur_hpsa_fac.loc[~tn_rur_hpsa_fac.duplicated(['HPSA ID'])]['HPSA Discipline Class'].value_counts()"
   ]
  },
  {
   "cell_type": "code",
   "execution_count": null,
   "id": "84e23f37",
   "metadata": {},
   "outputs": [],
   "source": [
    "tn_rur_hpsa_fac.loc[~tn_rur_hpsa_fac.duplicated(['HPSA ID'])]['HPSA Discipline Class'].value_counts(normalize=True)"
   ]
  },
  {
   "cell_type": "code",
   "execution_count": null,
   "id": "f4cca82d",
   "metadata": {
    "scrolled": true
   },
   "outputs": [],
   "source": [
    "tn_rur_hpsa_fac[['County', 'HPSA Discipline Class']].value_counts()"
   ]
  },
  {
   "cell_type": "code",
   "execution_count": null,
   "id": "9ebd407e",
   "metadata": {
    "scrolled": true
   },
   "outputs": [],
   "source": [
    "tn_rur_hpsa_fac[['HPSA Score', 'County']].value_counts().sort_index(ascending=False)"
   ]
  },
  {
   "cell_type": "code",
   "execution_count": null,
   "id": "96254704",
   "metadata": {
    "scrolled": true
   },
   "outputs": [],
   "source": [
    "tn_rur_hpsa_fac.loc[~tn_rur_hpsa_fac.duplicated(['HPSA ID'])][['HPSA Discipline Class', \n",
    "                                                               'HPSA Score']].value_counts().sort_index(ascending=False)"
   ]
  },
  {
   "cell_type": "markdown",
   "id": "374da734",
   "metadata": {},
   "source": [
    "#### Geographically-based HPSA info"
   ]
  },
  {
   "cell_type": "code",
   "execution_count": null,
   "id": "92abc858",
   "metadata": {
    "scrolled": false
   },
   "outputs": [],
   "source": [
    "tn_rur_hpsa_geo.loc[~tn_rur_hpsa_geo.duplicated(['HPSA ID'])]['HPSA Discipline Class'].value_counts()"
   ]
  },
  {
   "cell_type": "code",
   "execution_count": null,
   "id": "709aa437",
   "metadata": {
    "scrolled": true
   },
   "outputs": [],
   "source": [
    "tn_rur_hpsa_geo[['County']].value_counts()"
   ]
  },
  {
   "cell_type": "code",
   "execution_count": null,
   "id": "0d55f6c5",
   "metadata": {},
   "outputs": [],
   "source": [
    "tn_rur_hpsa_geo.loc[~tn_rur_hpsa_geo.duplicated(['HPSA ID'])][['HPSA Score']].value_counts().sort_index(ascending=False)"
   ]
  },
  {
   "cell_type": "code",
   "execution_count": null,
   "id": "c71e2b03",
   "metadata": {},
   "outputs": [],
   "source": [
    "tn_rur_hpsa_geo.loc[~tn_rur_hpsa_geo.duplicated(['HPSA ID'])][['HPSA Discipline Class', \n",
    "                                                               'HPSA Score']].value_counts().sort_index(ascending=False)"
   ]
  },
  {
   "cell_type": "markdown",
   "id": "4f62144c",
   "metadata": {},
   "source": [
    "#### Population-based HPSA info"
   ]
  },
  {
   "cell_type": "code",
   "execution_count": null,
   "id": "6107ab7b",
   "metadata": {
    "scrolled": true
   },
   "outputs": [],
   "source": [
    "tn_rur_hpsa_pop.loc[~tn_rur_hpsa_pop.duplicated(['HPSA ID'])]['HPSA Discipline Class'].value_counts()"
   ]
  },
  {
   "cell_type": "code",
   "execution_count": null,
   "id": "1cf7cfc6",
   "metadata": {
    "scrolled": true
   },
   "outputs": [],
   "source": [
    "tn_rur_hpsa_pop[['County', 'HPSA Discipline Class']].value_counts()"
   ]
  },
  {
   "cell_type": "code",
   "execution_count": null,
   "id": "75951006",
   "metadata": {},
   "outputs": [],
   "source": [
    "tn_rur_hpsa_pop.loc[~tn_rur_hpsa_pop.duplicated(['HPSA ID'])]['HPSA Population Type'].value_counts()"
   ]
  },
  {
   "cell_type": "code",
   "execution_count": null,
   "id": "0686d821",
   "metadata": {},
   "outputs": [],
   "source": [
    "tn_rur_hpsa_pop.loc[~tn_rur_hpsa_pop.duplicated(['HPSA ID'])][['HPSA Score']].value_counts().sort_index(ascending=False)"
   ]
  },
  {
   "cell_type": "code",
   "execution_count": null,
   "id": "06e9bcee",
   "metadata": {},
   "outputs": [],
   "source": [
    "tn_rur_hpsa_pop.loc[~tn_rur_hpsa_pop.duplicated(['HPSA ID'])][['HPSA Discipline Class', \n",
    "                                                               'HPSA Score']].value_counts().sort_index(ascending=False)"
   ]
  },
  {
   "cell_type": "markdown",
   "id": "88bf0fd5",
   "metadata": {},
   "source": [
    "#### Exploring HPSA designations that have been proposed for withdrawal"
   ]
  },
  {
   "cell_type": "code",
   "execution_count": null,
   "id": "a835f4c1",
   "metadata": {},
   "outputs": [],
   "source": [
    "tn_hpsa_prop_wi = tn_hpsa.loc[tn_hpsa['HPSA Status'] == 'Proposed For Withdrawal']"
   ]
  },
  {
   "cell_type": "code",
   "execution_count": null,
   "id": "4fb1d527",
   "metadata": {
    "scrolled": true
   },
   "outputs": [],
   "source": [
    "tn_hpsa_prop_wi.loc[~tn_hpsa_prop_wi.duplicated(['HPSA ID'])]['Designation Type'].value_counts()"
   ]
  },
  {
   "cell_type": "code",
   "execution_count": null,
   "id": "fc94622a",
   "metadata": {
    "scrolled": true
   },
   "outputs": [],
   "source": [
    "tn_hpsa_prop_wi.loc[~tn_hpsa_prop_wi.duplicated(['HPSA ID'])]['Designation Type'].value_counts(normalize=True)"
   ]
  },
  {
   "cell_type": "code",
   "execution_count": null,
   "id": "2c6fb5bd",
   "metadata": {
    "scrolled": true
   },
   "outputs": [],
   "source": [
    "tn_hpsa_prop_wi.loc[~tn_hpsa_prop_wi.duplicated(['HPSA ID'])]['Rural Status'].value_counts()"
   ]
  },
  {
   "cell_type": "code",
   "execution_count": null,
   "id": "447b585c",
   "metadata": {
    "scrolled": true
   },
   "outputs": [],
   "source": [
    "tn_hpsa_prop_wi.loc[~tn_hpsa_prop_wi.duplicated(['HPSA ID'])]['Rural Status'].value_counts(normalize=True)"
   ]
  },
  {
   "cell_type": "code",
   "execution_count": null,
   "id": "87286dbb",
   "metadata": {
    "scrolled": true
   },
   "outputs": [],
   "source": [
    "tn_rur_hpsa_prop_wi_fac = tn_hpsa_prop_wi.loc[(tn_hpsa_prop_wi['Designation Type'].isin(['State Mental Hospital']))\n",
    "                                     & (tn_hpsa_prop_wi['Rural Status'] != 'Non-Rural')]\n",
    "\n",
    "tn_rur_hpsa_prop_wi_geo = tn_hpsa_prop_wi.loc[(tn_hpsa_prop_wi['Designation Type'].isin(['Geographic HPSA', \n",
    "                                                                       'High Needs Geographic HPSA']))\n",
    "                                     & (tn_hpsa_prop_wi['Rural Status'] != 'Non-Rural')]\n",
    "\n",
    "tn_rur_hpsa_prop_wi_pop = tn_hpsa_prop_wi.loc[tn_hpsa_prop_wi['Designation Type'].isin(['HPSA Population'])\n",
    "                                 & (tn_hpsa_prop_wi['Rural Status'] != 'Non-Rural')]"
   ]
  },
  {
   "cell_type": "code",
   "execution_count": null,
   "id": "50060ef2",
   "metadata": {
    "scrolled": true
   },
   "outputs": [],
   "source": [
    "tn_rur_hpsa_prop_wi_fac"
   ]
  },
  {
   "cell_type": "code",
   "execution_count": null,
   "id": "9eeea1ec",
   "metadata": {
    "scrolled": true
   },
   "outputs": [],
   "source": [
    "tn_rur_hpsa_prop_wi_geo[~tn_rur_hpsa_prop_wi_geo.duplicated(['HPSA ID'])]['HPSA Discipline Class'].value_counts()"
   ]
  },
  {
   "cell_type": "code",
   "execution_count": null,
   "id": "cd68e906",
   "metadata": {
    "scrolled": true
   },
   "outputs": [],
   "source": [
    "tn_rur_hpsa_prop_wi_pop[~tn_rur_hpsa_prop_wi_pop.duplicated(['HPSA ID'])]['HPSA Discipline Class'].value_counts()"
   ]
  },
  {
   "cell_type": "code",
   "execution_count": null,
   "id": "2e929af5",
   "metadata": {
    "scrolled": false
   },
   "outputs": [],
   "source": [
    "tn_rur_hpsa_prop_wi_pop['County'].value_counts()"
   ]
  },
  {
   "cell_type": "code",
   "execution_count": null,
   "id": "b8fffea1",
   "metadata": {
    "scrolled": true
   },
   "outputs": [],
   "source": [
    "tn_rur_hpsa_prop_wi_pop[~tn_rur_hpsa_prop_wi_pop.duplicated(['HPSA ID'])]['HPSA Population Type'].value_counts()"
   ]
  },
  {
   "cell_type": "code",
   "execution_count": null,
   "id": "b6d130e8",
   "metadata": {},
   "outputs": [],
   "source": [
    "tn_rur_hpsa['County'] = tn_rur_hpsa['County'].str.replace(', TN', '')"
   ]
  },
  {
   "cell_type": "code",
   "execution_count": null,
   "id": "1ba8d579",
   "metadata": {},
   "outputs": [],
   "source": [
    "tn_rur_hpsa.loc[tn_rur_hpsa['County'] == 'Trousdale County']"
   ]
  },
  {
   "cell_type": "code",
   "execution_count": null,
   "id": "b6fab7bb",
   "metadata": {},
   "outputs": [],
   "source": [
    "#tn_rur_hpsa.to_csv('../capstone_data/tn_rur_hpsa.csv')"
   ]
  },
  {
   "cell_type": "code",
   "execution_count": null,
   "id": "b379cd82",
   "metadata": {},
   "outputs": [],
   "source": []
  },
  {
   "cell_type": "code",
   "execution_count": null,
   "id": "d276d7be",
   "metadata": {},
   "outputs": [],
   "source": [
    "tn_hpsa.sort_values('County')"
   ]
  },
  {
   "cell_type": "code",
   "execution_count": null,
   "id": "70a686b8",
   "metadata": {},
   "outputs": [],
   "source": [
    "tn_rur_hpsa.sort_values('County')"
   ]
  },
  {
   "cell_type": "code",
   "execution_count": null,
   "id": "18344039",
   "metadata": {},
   "outputs": [],
   "source": []
  }
 ],
 "metadata": {
  "kernelspec": {
   "display_name": "Python 3 (ipykernel)",
   "language": "python",
   "name": "python3"
  },
  "language_info": {
   "codemirror_mode": {
    "name": "ipython",
    "version": 3
   },
   "file_extension": ".py",
   "mimetype": "text/x-python",
   "name": "python",
   "nbconvert_exporter": "python",
   "pygments_lexer": "ipython3",
   "version": "3.10.5"
  }
 },
 "nbformat": 4,
 "nbformat_minor": 5
}
