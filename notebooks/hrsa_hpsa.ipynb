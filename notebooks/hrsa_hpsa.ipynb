{
 "cells": [
  {
   "cell_type": "code",
   "execution_count": 1,
   "id": "e5a39efb",
   "metadata": {},
   "outputs": [],
   "source": [
    "import pandas as pd\n",
    "import matplotlib.pyplot as plt\n",
    "import numpy as np"
   ]
  },
  {
   "cell_type": "markdown",
   "id": "fca27949",
   "metadata": {},
   "source": [
    "#### This notebook provides initial exploratory analysis of the HPSA designations\n",
    "Info about HPSAs:\n",
    "    -https://bhw.hrsa.gov/workforce-shortage-areas/shortage-designation\n",
    "    -https://bhw.hrsa.gov/workforce-shortage-areas/shortage-designation/scoring\n",
    "    -https://bhw.hrsa.gov/workforce-shortage-areas/shortage-designation/modernization-project"
   ]
  },
  {
   "cell_type": "code",
   "execution_count": 2,
   "id": "9daa7e02",
   "metadata": {
    "scrolled": true
   },
   "outputs": [
    {
     "data": {
      "text/html": [
       "<div>\n",
       "<style scoped>\n",
       "    .dataframe tbody tr th:only-of-type {\n",
       "        vertical-align: middle;\n",
       "    }\n",
       "\n",
       "    .dataframe tbody tr th {\n",
       "        vertical-align: top;\n",
       "    }\n",
       "\n",
       "    .dataframe thead th {\n",
       "        text-align: right;\n",
       "    }\n",
       "</style>\n",
       "<table border=\"1\" class=\"dataframe\">\n",
       "  <thead>\n",
       "    <tr style=\"text-align: right;\">\n",
       "      <th></th>\n",
       "      <th>HPSA Name</th>\n",
       "      <th>HPSA ID</th>\n",
       "      <th>Designation Type</th>\n",
       "      <th>HPSA Discipline Class</th>\n",
       "      <th>HPSA Score</th>\n",
       "      <th>State</th>\n",
       "      <th>HPSA Status</th>\n",
       "      <th>HPSA Designation Date</th>\n",
       "      <th>HPSA Designation Last Update</th>\n",
       "      <th>Withdrawn Date</th>\n",
       "      <th>...</th>\n",
       "      <th>% of Population Below 100% Poverty</th>\n",
       "      <th>HPSA Formal Ratio</th>\n",
       "      <th>Address</th>\n",
       "      <th>City</th>\n",
       "      <th>ZIP</th>\n",
       "      <th>HHS Region</th>\n",
       "      <th>Rural Status</th>\n",
       "      <th>Longitude</th>\n",
       "      <th>Latitude</th>\n",
       "      <th>County</th>\n",
       "    </tr>\n",
       "  </thead>\n",
       "  <tbody>\n",
       "    <tr>\n",
       "      <th>0</th>\n",
       "      <td>Overton</td>\n",
       "      <td>147133</td>\n",
       "      <td>Geographic HPSA</td>\n",
       "      <td>Primary Care</td>\n",
       "      <td>0</td>\n",
       "      <td>TN</td>\n",
       "      <td>Withdrawn</td>\n",
       "      <td>12/17/1980</td>\n",
       "      <td>01/21/1994</td>\n",
       "      <td>01/21/1994</td>\n",
       "      <td>...</td>\n",
       "      <td>17.9</td>\n",
       "      <td>3172:1</td>\n",
       "      <td>NaN</td>\n",
       "      <td>NaN</td>\n",
       "      <td>NaN</td>\n",
       "      <td>Region 4                                      ...</td>\n",
       "      <td>Rural</td>\n",
       "      <td>NaN</td>\n",
       "      <td>NaN</td>\n",
       "      <td>Overton County, TN</td>\n",
       "    </tr>\n",
       "    <tr>\n",
       "      <th>1</th>\n",
       "      <td>WTPC, LLC</td>\n",
       "      <td>1471038172</td>\n",
       "      <td>Rural Health Clinic</td>\n",
       "      <td>Primary Care</td>\n",
       "      <td>17</td>\n",
       "      <td>TN</td>\n",
       "      <td>Designated</td>\n",
       "      <td>09/30/2021</td>\n",
       "      <td>09/30/2021</td>\n",
       "      <td>NaN</td>\n",
       "      <td>...</td>\n",
       "      <td>NaN</td>\n",
       "      <td>NaN</td>\n",
       "      <td>557 W Park Pl</td>\n",
       "      <td>Henderson</td>\n",
       "      <td>38340-2027</td>\n",
       "      <td>Region 4                                      ...</td>\n",
       "      <td>Rural</td>\n",
       "      <td>-88.661904</td>\n",
       "      <td>35.442291</td>\n",
       "      <td>Chester County, TN</td>\n",
       "    </tr>\n",
       "    <tr>\n",
       "      <th>2</th>\n",
       "      <td>Decatur</td>\n",
       "      <td>147039</td>\n",
       "      <td>Geographic HPSA</td>\n",
       "      <td>Primary Care</td>\n",
       "      <td>0</td>\n",
       "      <td>TN</td>\n",
       "      <td>Withdrawn</td>\n",
       "      <td>07/19/1978</td>\n",
       "      <td>09/13/2010</td>\n",
       "      <td>09/13/2010</td>\n",
       "      <td>...</td>\n",
       "      <td>NaN</td>\n",
       "      <td>3651:1</td>\n",
       "      <td>NaN</td>\n",
       "      <td>NaN</td>\n",
       "      <td>NaN</td>\n",
       "      <td>Region 4                                      ...</td>\n",
       "      <td>Rural</td>\n",
       "      <td>NaN</td>\n",
       "      <td>NaN</td>\n",
       "      <td>Decatur County, TN</td>\n",
       "    </tr>\n",
       "    <tr>\n",
       "      <th>3</th>\n",
       "      <td>Health, Tennessee Dept Of</td>\n",
       "      <td>747999477U</td>\n",
       "      <td>Federally Qualified Health Center</td>\n",
       "      <td>Mental Health</td>\n",
       "      <td>19</td>\n",
       "      <td>TN</td>\n",
       "      <td>Designated</td>\n",
       "      <td>08/01/2015</td>\n",
       "      <td>09/11/2021</td>\n",
       "      <td>NaN</td>\n",
       "      <td>...</td>\n",
       "      <td>NaN</td>\n",
       "      <td>NaN</td>\n",
       "      <td>710 James Robertson Pkwy 64 Andrew Johnson Tower</td>\n",
       "      <td>Nashville</td>\n",
       "      <td>37243-0001</td>\n",
       "      <td>Region 4                                      ...</td>\n",
       "      <td>Non-Rural</td>\n",
       "      <td>-86.786927</td>\n",
       "      <td>36.167605</td>\n",
       "      <td>Davidson County, TN</td>\n",
       "    </tr>\n",
       "    <tr>\n",
       "      <th>4</th>\n",
       "      <td>TENNOVA URGENT CARE - SHELBYVILLE</td>\n",
       "      <td>747999477F</td>\n",
       "      <td>Rural Health Clinic</td>\n",
       "      <td>Mental Health</td>\n",
       "      <td>15</td>\n",
       "      <td>TN</td>\n",
       "      <td>Withdrawn</td>\n",
       "      <td>10/25/2010</td>\n",
       "      <td>02/06/2020</td>\n",
       "      <td>02/06/2020</td>\n",
       "      <td>...</td>\n",
       "      <td>NaN</td>\n",
       "      <td>NaN</td>\n",
       "      <td>1612 N Main St STE A</td>\n",
       "      <td>Shelbyville</td>\n",
       "      <td>37160-2392</td>\n",
       "      <td>Region 4                                      ...</td>\n",
       "      <td>Rural</td>\n",
       "      <td>-86.456820</td>\n",
       "      <td>35.506176</td>\n",
       "      <td>Bedford County, TN</td>\n",
       "    </tr>\n",
       "    <tr>\n",
       "      <th>...</th>\n",
       "      <td>...</td>\n",
       "      <td>...</td>\n",
       "      <td>...</td>\n",
       "      <td>...</td>\n",
       "      <td>...</td>\n",
       "      <td>...</td>\n",
       "      <td>...</td>\n",
       "      <td>...</td>\n",
       "      <td>...</td>\n",
       "      <td>...</td>\n",
       "      <td>...</td>\n",
       "      <td>...</td>\n",
       "      <td>...</td>\n",
       "      <td>...</td>\n",
       "      <td>...</td>\n",
       "      <td>...</td>\n",
       "      <td>...</td>\n",
       "      <td>...</td>\n",
       "      <td>...</td>\n",
       "      <td>...</td>\n",
       "      <td>...</td>\n",
       "    </tr>\n",
       "    <tr>\n",
       "      <th>606</th>\n",
       "      <td>LI-Loudon County</td>\n",
       "      <td>1473386147</td>\n",
       "      <td>HPSA Population</td>\n",
       "      <td>Primary Care</td>\n",
       "      <td>12</td>\n",
       "      <td>TN</td>\n",
       "      <td>Designated</td>\n",
       "      <td>03/18/2022</td>\n",
       "      <td>03/18/2022</td>\n",
       "      <td>NaN</td>\n",
       "      <td>...</td>\n",
       "      <td>11.2</td>\n",
       "      <td>4163:1</td>\n",
       "      <td>NaN</td>\n",
       "      <td>NaN</td>\n",
       "      <td>NaN</td>\n",
       "      <td>Region 4                                      ...</td>\n",
       "      <td>Non-Rural</td>\n",
       "      <td>NaN</td>\n",
       "      <td>NaN</td>\n",
       "      <td>Loudon County, TN</td>\n",
       "    </tr>\n",
       "    <tr>\n",
       "      <th>607</th>\n",
       "      <td>LI-Putnam/White Counties</td>\n",
       "      <td>1472793573</td>\n",
       "      <td>HPSA Population</td>\n",
       "      <td>Primary Care</td>\n",
       "      <td>16</td>\n",
       "      <td>TN</td>\n",
       "      <td>Proposed For Withdrawal</td>\n",
       "      <td>03/22/2012</td>\n",
       "      <td>09/10/2021</td>\n",
       "      <td>NaN</td>\n",
       "      <td>...</td>\n",
       "      <td>24.3</td>\n",
       "      <td>5114:1</td>\n",
       "      <td>NaN</td>\n",
       "      <td>NaN</td>\n",
       "      <td>NaN</td>\n",
       "      <td>Region 4                                      ...</td>\n",
       "      <td>Rural</td>\n",
       "      <td>NaN</td>\n",
       "      <td>NaN</td>\n",
       "      <td>Putnam County, TN | White County, TN</td>\n",
       "    </tr>\n",
       "    <tr>\n",
       "      <th>608</th>\n",
       "      <td>LI-McNairy County</td>\n",
       "      <td>1472279043</td>\n",
       "      <td>HPSA Population</td>\n",
       "      <td>Primary Care</td>\n",
       "      <td>17</td>\n",
       "      <td>TN</td>\n",
       "      <td>Designated</td>\n",
       "      <td>04/05/2022</td>\n",
       "      <td>04/05/2022</td>\n",
       "      <td>NaN</td>\n",
       "      <td>...</td>\n",
       "      <td>18.8</td>\n",
       "      <td>17452:1</td>\n",
       "      <td>NaN</td>\n",
       "      <td>NaN</td>\n",
       "      <td>NaN</td>\n",
       "      <td>Region 4                                      ...</td>\n",
       "      <td>Rural</td>\n",
       "      <td>NaN</td>\n",
       "      <td>NaN</td>\n",
       "      <td>McNairy County, TN</td>\n",
       "    </tr>\n",
       "    <tr>\n",
       "      <th>609</th>\n",
       "      <td>LI-Sevier County</td>\n",
       "      <td>1471717306</td>\n",
       "      <td>HPSA Population</td>\n",
       "      <td>Primary Care</td>\n",
       "      <td>14</td>\n",
       "      <td>TN</td>\n",
       "      <td>Designated</td>\n",
       "      <td>02/28/2014</td>\n",
       "      <td>09/10/2021</td>\n",
       "      <td>NaN</td>\n",
       "      <td>...</td>\n",
       "      <td>13.6</td>\n",
       "      <td>6807:1</td>\n",
       "      <td>NaN</td>\n",
       "      <td>NaN</td>\n",
       "      <td>NaN</td>\n",
       "      <td>Region 4                                      ...</td>\n",
       "      <td>Rural</td>\n",
       "      <td>NaN</td>\n",
       "      <td>NaN</td>\n",
       "      <td>Sevier County, TN</td>\n",
       "    </tr>\n",
       "    <tr>\n",
       "      <th>610</th>\n",
       "      <td>LI-Macon &amp;amp; Trousdale Counties</td>\n",
       "      <td>1471425309</td>\n",
       "      <td>HPSA Population</td>\n",
       "      <td>Primary Care</td>\n",
       "      <td>16</td>\n",
       "      <td>TN</td>\n",
       "      <td>Designated</td>\n",
       "      <td>04/05/2022</td>\n",
       "      <td>04/05/2022</td>\n",
       "      <td>NaN</td>\n",
       "      <td>...</td>\n",
       "      <td>15.2</td>\n",
       "      <td>8755:1</td>\n",
       "      <td>NaN</td>\n",
       "      <td>NaN</td>\n",
       "      <td>NaN</td>\n",
       "      <td>Region 4                                      ...</td>\n",
       "      <td>Rural</td>\n",
       "      <td>NaN</td>\n",
       "      <td>NaN</td>\n",
       "      <td>Macon County, TN | Trousdale County, TN</td>\n",
       "    </tr>\n",
       "  </tbody>\n",
       "</table>\n",
       "<p>611 rows × 26 columns</p>\n",
       "</div>"
      ],
      "text/plain": [
       "                             HPSA Name     HPSA ID  \\\n",
       "0                              Overton      147133   \n",
       "1                            WTPC, LLC  1471038172   \n",
       "2                              Decatur      147039   \n",
       "3            Health, Tennessee Dept Of  747999477U   \n",
       "4    TENNOVA URGENT CARE - SHELBYVILLE  747999477F   \n",
       "..                                 ...         ...   \n",
       "606                   LI-Loudon County  1473386147   \n",
       "607           LI-Putnam/White Counties  1472793573   \n",
       "608                  LI-McNairy County  1472279043   \n",
       "609                   LI-Sevier County  1471717306   \n",
       "610  LI-Macon &amp; Trousdale Counties  1471425309   \n",
       "\n",
       "                      Designation Type HPSA Discipline Class  HPSA Score  \\\n",
       "0                      Geographic HPSA          Primary Care           0   \n",
       "1                  Rural Health Clinic          Primary Care          17   \n",
       "2                      Geographic HPSA          Primary Care           0   \n",
       "3    Federally Qualified Health Center         Mental Health          19   \n",
       "4                  Rural Health Clinic         Mental Health          15   \n",
       "..                                 ...                   ...         ...   \n",
       "606                    HPSA Population          Primary Care          12   \n",
       "607                    HPSA Population          Primary Care          16   \n",
       "608                    HPSA Population          Primary Care          17   \n",
       "609                    HPSA Population          Primary Care          14   \n",
       "610                    HPSA Population          Primary Care          16   \n",
       "\n",
       "    State              HPSA Status HPSA Designation Date  \\\n",
       "0      TN                Withdrawn            12/17/1980   \n",
       "1      TN               Designated            09/30/2021   \n",
       "2      TN                Withdrawn            07/19/1978   \n",
       "3      TN               Designated            08/01/2015   \n",
       "4      TN                Withdrawn            10/25/2010   \n",
       "..    ...                      ...                   ...   \n",
       "606    TN               Designated            03/18/2022   \n",
       "607    TN  Proposed For Withdrawal            03/22/2012   \n",
       "608    TN               Designated            04/05/2022   \n",
       "609    TN               Designated            02/28/2014   \n",
       "610    TN               Designated            04/05/2022   \n",
       "\n",
       "    HPSA Designation Last Update Withdrawn Date  ...  \\\n",
       "0                     01/21/1994     01/21/1994  ...   \n",
       "1                     09/30/2021            NaN  ...   \n",
       "2                     09/13/2010     09/13/2010  ...   \n",
       "3                     09/11/2021            NaN  ...   \n",
       "4                     02/06/2020     02/06/2020  ...   \n",
       "..                           ...            ...  ...   \n",
       "606                   03/18/2022            NaN  ...   \n",
       "607                   09/10/2021            NaN  ...   \n",
       "608                   04/05/2022            NaN  ...   \n",
       "609                   09/10/2021            NaN  ...   \n",
       "610                   04/05/2022            NaN  ...   \n",
       "\n",
       "    % of Population Below 100% Poverty HPSA Formal Ratio  \\\n",
       "0                                 17.9            3172:1   \n",
       "1                                  NaN               NaN   \n",
       "2                                  NaN            3651:1   \n",
       "3                                  NaN               NaN   \n",
       "4                                  NaN               NaN   \n",
       "..                                 ...               ...   \n",
       "606                               11.2            4163:1   \n",
       "607                               24.3            5114:1   \n",
       "608                               18.8           17452:1   \n",
       "609                               13.6            6807:1   \n",
       "610                               15.2            8755:1   \n",
       "\n",
       "                                              Address         City  \\\n",
       "0                                                 NaN          NaN   \n",
       "1                                       557 W Park Pl    Henderson   \n",
       "2                                                 NaN          NaN   \n",
       "3    710 James Robertson Pkwy 64 Andrew Johnson Tower    Nashville   \n",
       "4                                1612 N Main St STE A  Shelbyville   \n",
       "..                                                ...          ...   \n",
       "606                                               NaN          NaN   \n",
       "607                                               NaN          NaN   \n",
       "608                                               NaN          NaN   \n",
       "609                                               NaN          NaN   \n",
       "610                                               NaN          NaN   \n",
       "\n",
       "            ZIP                                         HHS Region  \\\n",
       "0           NaN  Region 4                                      ...   \n",
       "1    38340-2027  Region 4                                      ...   \n",
       "2           NaN  Region 4                                      ...   \n",
       "3    37243-0001  Region 4                                      ...   \n",
       "4    37160-2392  Region 4                                      ...   \n",
       "..          ...                                                ...   \n",
       "606         NaN  Region 4                                      ...   \n",
       "607         NaN  Region 4                                      ...   \n",
       "608         NaN  Region 4                                      ...   \n",
       "609         NaN  Region 4                                      ...   \n",
       "610         NaN  Region 4                                      ...   \n",
       "\n",
       "     Rural Status  Longitude   Latitude  \\\n",
       "0           Rural        NaN        NaN   \n",
       "1           Rural -88.661904  35.442291   \n",
       "2           Rural        NaN        NaN   \n",
       "3       Non-Rural -86.786927  36.167605   \n",
       "4           Rural -86.456820  35.506176   \n",
       "..            ...        ...        ...   \n",
       "606     Non-Rural        NaN        NaN   \n",
       "607         Rural        NaN        NaN   \n",
       "608         Rural        NaN        NaN   \n",
       "609         Rural        NaN        NaN   \n",
       "610         Rural        NaN        NaN   \n",
       "\n",
       "                                      County  \n",
       "0                         Overton County, TN  \n",
       "1                         Chester County, TN  \n",
       "2                         Decatur County, TN  \n",
       "3                        Davidson County, TN  \n",
       "4                         Bedford County, TN  \n",
       "..                                       ...  \n",
       "606                        Loudon County, TN  \n",
       "607     Putnam County, TN | White County, TN  \n",
       "608                       McNairy County, TN  \n",
       "609                        Sevier County, TN  \n",
       "610  Macon County, TN | Trousdale County, TN  \n",
       "\n",
       "[611 rows x 26 columns]"
      ]
     },
     "execution_count": 2,
     "metadata": {},
     "output_type": "execute_result"
    }
   ],
   "source": [
    "tn_hpsa = pd.read_excel('../capstone_data/HRSA_HPSA_details.xlsx')\n",
    "tn_hpsa"
   ]
  },
  {
   "cell_type": "code",
   "execution_count": 3,
   "id": "06a16252",
   "metadata": {
    "scrolled": true
   },
   "outputs": [
    {
     "data": {
      "text/html": [
       "<div>\n",
       "<style scoped>\n",
       "    .dataframe tbody tr th:only-of-type {\n",
       "        vertical-align: middle;\n",
       "    }\n",
       "\n",
       "    .dataframe tbody tr th {\n",
       "        vertical-align: top;\n",
       "    }\n",
       "\n",
       "    .dataframe thead th {\n",
       "        text-align: right;\n",
       "    }\n",
       "</style>\n",
       "<table border=\"1\" class=\"dataframe\">\n",
       "  <thead>\n",
       "    <tr style=\"text-align: right;\">\n",
       "      <th></th>\n",
       "      <th>HPSA Name</th>\n",
       "      <th>HPSA ID</th>\n",
       "      <th>Designation Type</th>\n",
       "      <th>HPSA Discipline Class</th>\n",
       "      <th>HPSA Population Type</th>\n",
       "      <th>HPSA Score</th>\n",
       "      <th>HPSA Status</th>\n",
       "      <th>HPSA Designation Date</th>\n",
       "      <th>HPSA Designation Last Update</th>\n",
       "      <th>Withdrawn Date</th>\n",
       "      <th>...</th>\n",
       "      <th>State</th>\n",
       "      <th>County</th>\n",
       "      <th>HPSA FTE</th>\n",
       "      <th># of FTE Short</th>\n",
       "      <th>HPSA Formal Ratio</th>\n",
       "      <th>HPSA Designation Population</th>\n",
       "      <th>% of Population Below 100% Poverty</th>\n",
       "      <th>Metropolitan Indicator</th>\n",
       "      <th>Rural Status</th>\n",
       "      <th>Multi-County</th>\n",
       "    </tr>\n",
       "  </thead>\n",
       "  <tbody>\n",
       "    <tr>\n",
       "      <th>0</th>\n",
       "      <td>Overton</td>\n",
       "      <td>147133</td>\n",
       "      <td>Geographic HPSA</td>\n",
       "      <td>Primary Care</td>\n",
       "      <td>Geographic Population</td>\n",
       "      <td>0</td>\n",
       "      <td>Withdrawn</td>\n",
       "      <td>12/17/1980</td>\n",
       "      <td>01/21/1994</td>\n",
       "      <td>01/21/1994</td>\n",
       "      <td>...</td>\n",
       "      <td>TN</td>\n",
       "      <td>Overton County, TN</td>\n",
       "      <td>5.5000</td>\n",
       "      <td>NaN</td>\n",
       "      <td>3172:1</td>\n",
       "      <td>17444.0</td>\n",
       "      <td>17.9</td>\n",
       "      <td>Non-Metropolitan</td>\n",
       "      <td>Rural</td>\n",
       "      <td>No</td>\n",
       "    </tr>\n",
       "    <tr>\n",
       "      <th>1</th>\n",
       "      <td>WTPC, LLC</td>\n",
       "      <td>1471038172</td>\n",
       "      <td>Rural Health Clinic</td>\n",
       "      <td>Primary Care</td>\n",
       "      <td>NaN</td>\n",
       "      <td>17</td>\n",
       "      <td>Designated</td>\n",
       "      <td>09/30/2021</td>\n",
       "      <td>09/30/2021</td>\n",
       "      <td>NaN</td>\n",
       "      <td>...</td>\n",
       "      <td>TN</td>\n",
       "      <td>Chester County, TN</td>\n",
       "      <td>NaN</td>\n",
       "      <td>NaN</td>\n",
       "      <td>NaN</td>\n",
       "      <td>59090.0</td>\n",
       "      <td>NaN</td>\n",
       "      <td>Unknown</td>\n",
       "      <td>Rural</td>\n",
       "      <td>No</td>\n",
       "    </tr>\n",
       "    <tr>\n",
       "      <th>2</th>\n",
       "      <td>Decatur</td>\n",
       "      <td>147039</td>\n",
       "      <td>Geographic HPSA</td>\n",
       "      <td>Primary Care</td>\n",
       "      <td>Geographic Population</td>\n",
       "      <td>0</td>\n",
       "      <td>Withdrawn</td>\n",
       "      <td>07/19/1978</td>\n",
       "      <td>09/13/2010</td>\n",
       "      <td>09/13/2010</td>\n",
       "      <td>...</td>\n",
       "      <td>TN</td>\n",
       "      <td>Decatur County, TN</td>\n",
       "      <td>3.1000</td>\n",
       "      <td>0.0000</td>\n",
       "      <td>3651:1</td>\n",
       "      <td>11318.0</td>\n",
       "      <td>NaN</td>\n",
       "      <td>Non-Metropolitan</td>\n",
       "      <td>Rural</td>\n",
       "      <td>No</td>\n",
       "    </tr>\n",
       "    <tr>\n",
       "      <th>3</th>\n",
       "      <td>Health, Tennessee Dept Of</td>\n",
       "      <td>747999477U</td>\n",
       "      <td>Federally Qualified Health Center</td>\n",
       "      <td>Mental Health</td>\n",
       "      <td>NaN</td>\n",
       "      <td>19</td>\n",
       "      <td>Designated</td>\n",
       "      <td>08/01/2015</td>\n",
       "      <td>09/11/2021</td>\n",
       "      <td>NaN</td>\n",
       "      <td>...</td>\n",
       "      <td>TN</td>\n",
       "      <td>Davidson County, TN</td>\n",
       "      <td>NaN</td>\n",
       "      <td>NaN</td>\n",
       "      <td>NaN</td>\n",
       "      <td>17229.0</td>\n",
       "      <td>NaN</td>\n",
       "      <td>Unknown</td>\n",
       "      <td>Non-Rural</td>\n",
       "      <td>No</td>\n",
       "    </tr>\n",
       "    <tr>\n",
       "      <th>4</th>\n",
       "      <td>TENNOVA URGENT CARE - SHELBYVILLE</td>\n",
       "      <td>747999477F</td>\n",
       "      <td>Rural Health Clinic</td>\n",
       "      <td>Mental Health</td>\n",
       "      <td>NaN</td>\n",
       "      <td>15</td>\n",
       "      <td>Withdrawn</td>\n",
       "      <td>10/25/2010</td>\n",
       "      <td>02/06/2020</td>\n",
       "      <td>02/06/2020</td>\n",
       "      <td>...</td>\n",
       "      <td>TN</td>\n",
       "      <td>Bedford County, TN</td>\n",
       "      <td>NaN</td>\n",
       "      <td>NaN</td>\n",
       "      <td>NaN</td>\n",
       "      <td>145826.0</td>\n",
       "      <td>NaN</td>\n",
       "      <td>Unknown</td>\n",
       "      <td>Rural</td>\n",
       "      <td>No</td>\n",
       "    </tr>\n",
       "    <tr>\n",
       "      <th>...</th>\n",
       "      <td>...</td>\n",
       "      <td>...</td>\n",
       "      <td>...</td>\n",
       "      <td>...</td>\n",
       "      <td>...</td>\n",
       "      <td>...</td>\n",
       "      <td>...</td>\n",
       "      <td>...</td>\n",
       "      <td>...</td>\n",
       "      <td>...</td>\n",
       "      <td>...</td>\n",
       "      <td>...</td>\n",
       "      <td>...</td>\n",
       "      <td>...</td>\n",
       "      <td>...</td>\n",
       "      <td>...</td>\n",
       "      <td>...</td>\n",
       "      <td>...</td>\n",
       "      <td>...</td>\n",
       "      <td>...</td>\n",
       "      <td>...</td>\n",
       "    </tr>\n",
       "    <tr>\n",
       "      <th>736</th>\n",
       "      <td>LI-Putnam/White Counties</td>\n",
       "      <td>1472793573</td>\n",
       "      <td>HPSA Population</td>\n",
       "      <td>Primary Care</td>\n",
       "      <td>Low Income Population HPSA</td>\n",
       "      <td>16</td>\n",
       "      <td>Proposed For Withdrawal</td>\n",
       "      <td>03/22/2012</td>\n",
       "      <td>09/10/2021</td>\n",
       "      <td>NaN</td>\n",
       "      <td>...</td>\n",
       "      <td>TN</td>\n",
       "      <td>White County, TN</td>\n",
       "      <td>9.0721</td>\n",
       "      <td>6.3879</td>\n",
       "      <td>5114:1</td>\n",
       "      <td>46395.0</td>\n",
       "      <td>24.3</td>\n",
       "      <td>Unknown</td>\n",
       "      <td>Rural</td>\n",
       "      <td>Yes</td>\n",
       "    </tr>\n",
       "    <tr>\n",
       "      <th>737</th>\n",
       "      <td>LI-McNairy County</td>\n",
       "      <td>1472279043</td>\n",
       "      <td>HPSA Population</td>\n",
       "      <td>Primary Care</td>\n",
       "      <td>Low Income Population HPSA</td>\n",
       "      <td>17</td>\n",
       "      <td>Designated</td>\n",
       "      <td>04/05/2022</td>\n",
       "      <td>04/05/2022</td>\n",
       "      <td>NaN</td>\n",
       "      <td>...</td>\n",
       "      <td>TN</td>\n",
       "      <td>McNairy County, TN</td>\n",
       "      <td>0.6700</td>\n",
       "      <td>3.2300</td>\n",
       "      <td>17452:1</td>\n",
       "      <td>11693.0</td>\n",
       "      <td>18.8</td>\n",
       "      <td>Unknown</td>\n",
       "      <td>Rural</td>\n",
       "      <td>No</td>\n",
       "    </tr>\n",
       "    <tr>\n",
       "      <th>738</th>\n",
       "      <td>LI-Sevier County</td>\n",
       "      <td>1471717306</td>\n",
       "      <td>HPSA Population</td>\n",
       "      <td>Primary Care</td>\n",
       "      <td>Low Income Population HPSA</td>\n",
       "      <td>14</td>\n",
       "      <td>Designated</td>\n",
       "      <td>02/28/2014</td>\n",
       "      <td>09/10/2021</td>\n",
       "      <td>NaN</td>\n",
       "      <td>...</td>\n",
       "      <td>TN</td>\n",
       "      <td>Sevier County, TN</td>\n",
       "      <td>5.4700</td>\n",
       "      <td>6.9400</td>\n",
       "      <td>6807:1</td>\n",
       "      <td>37235.0</td>\n",
       "      <td>13.6</td>\n",
       "      <td>Unknown</td>\n",
       "      <td>Rural</td>\n",
       "      <td>No</td>\n",
       "    </tr>\n",
       "    <tr>\n",
       "      <th>739</th>\n",
       "      <td>LI-Macon &amp;amp; Trousdale Counties</td>\n",
       "      <td>1471425309</td>\n",
       "      <td>HPSA Population</td>\n",
       "      <td>Primary Care</td>\n",
       "      <td>Low Income Population HPSA</td>\n",
       "      <td>16</td>\n",
       "      <td>Designated</td>\n",
       "      <td>04/05/2022</td>\n",
       "      <td>04/05/2022</td>\n",
       "      <td>NaN</td>\n",
       "      <td>...</td>\n",
       "      <td>TN</td>\n",
       "      <td>Macon County, TN</td>\n",
       "      <td>1.3900</td>\n",
       "      <td>2.6700</td>\n",
       "      <td>8755:1</td>\n",
       "      <td>12169.0</td>\n",
       "      <td>15.2</td>\n",
       "      <td>Unknown</td>\n",
       "      <td>Rural</td>\n",
       "      <td>Yes</td>\n",
       "    </tr>\n",
       "    <tr>\n",
       "      <th>740</th>\n",
       "      <td>LI-Macon &amp;amp; Trousdale Counties</td>\n",
       "      <td>1471425309</td>\n",
       "      <td>HPSA Population</td>\n",
       "      <td>Primary Care</td>\n",
       "      <td>Low Income Population HPSA</td>\n",
       "      <td>16</td>\n",
       "      <td>Designated</td>\n",
       "      <td>04/05/2022</td>\n",
       "      <td>04/05/2022</td>\n",
       "      <td>NaN</td>\n",
       "      <td>...</td>\n",
       "      <td>TN</td>\n",
       "      <td>Trousdale County, TN</td>\n",
       "      <td>1.3900</td>\n",
       "      <td>2.6700</td>\n",
       "      <td>8755:1</td>\n",
       "      <td>12169.0</td>\n",
       "      <td>15.2</td>\n",
       "      <td>Unknown</td>\n",
       "      <td>Rural</td>\n",
       "      <td>Yes</td>\n",
       "    </tr>\n",
       "  </tbody>\n",
       "</table>\n",
       "<p>741 rows × 25 columns</p>\n",
       "</div>"
      ],
      "text/plain": [
       "                             HPSA Name     HPSA ID  \\\n",
       "0                              Overton      147133   \n",
       "1                            WTPC, LLC  1471038172   \n",
       "2                              Decatur      147039   \n",
       "3            Health, Tennessee Dept Of  747999477U   \n",
       "4    TENNOVA URGENT CARE - SHELBYVILLE  747999477F   \n",
       "..                                 ...         ...   \n",
       "736           LI-Putnam/White Counties  1472793573   \n",
       "737                  LI-McNairy County  1472279043   \n",
       "738                   LI-Sevier County  1471717306   \n",
       "739  LI-Macon &amp; Trousdale Counties  1471425309   \n",
       "740  LI-Macon &amp; Trousdale Counties  1471425309   \n",
       "\n",
       "                      Designation Type HPSA Discipline Class  \\\n",
       "0                      Geographic HPSA          Primary Care   \n",
       "1                  Rural Health Clinic          Primary Care   \n",
       "2                      Geographic HPSA          Primary Care   \n",
       "3    Federally Qualified Health Center         Mental Health   \n",
       "4                  Rural Health Clinic         Mental Health   \n",
       "..                                 ...                   ...   \n",
       "736                    HPSA Population          Primary Care   \n",
       "737                    HPSA Population          Primary Care   \n",
       "738                    HPSA Population          Primary Care   \n",
       "739                    HPSA Population          Primary Care   \n",
       "740                    HPSA Population          Primary Care   \n",
       "\n",
       "           HPSA Population Type  HPSA Score              HPSA Status  \\\n",
       "0         Geographic Population           0                Withdrawn   \n",
       "1                           NaN          17               Designated   \n",
       "2         Geographic Population           0                Withdrawn   \n",
       "3                           NaN          19               Designated   \n",
       "4                           NaN          15                Withdrawn   \n",
       "..                          ...         ...                      ...   \n",
       "736  Low Income Population HPSA          16  Proposed For Withdrawal   \n",
       "737  Low Income Population HPSA          17               Designated   \n",
       "738  Low Income Population HPSA          14               Designated   \n",
       "739  Low Income Population HPSA          16               Designated   \n",
       "740  Low Income Population HPSA          16               Designated   \n",
       "\n",
       "    HPSA Designation Date HPSA Designation Last Update Withdrawn Date  ...  \\\n",
       "0              12/17/1980                   01/21/1994     01/21/1994  ...   \n",
       "1              09/30/2021                   09/30/2021            NaN  ...   \n",
       "2              07/19/1978                   09/13/2010     09/13/2010  ...   \n",
       "3              08/01/2015                   09/11/2021            NaN  ...   \n",
       "4              10/25/2010                   02/06/2020     02/06/2020  ...   \n",
       "..                    ...                          ...            ...  ...   \n",
       "736            03/22/2012                   09/10/2021            NaN  ...   \n",
       "737            04/05/2022                   04/05/2022            NaN  ...   \n",
       "738            02/28/2014                   09/10/2021            NaN  ...   \n",
       "739            04/05/2022                   04/05/2022            NaN  ...   \n",
       "740            04/05/2022                   04/05/2022            NaN  ...   \n",
       "\n",
       "     State                 County HPSA FTE # of FTE Short HPSA Formal Ratio  \\\n",
       "0       TN     Overton County, TN   5.5000            NaN            3172:1   \n",
       "1       TN     Chester County, TN      NaN            NaN               NaN   \n",
       "2       TN     Decatur County, TN   3.1000         0.0000            3651:1   \n",
       "3       TN    Davidson County, TN      NaN            NaN               NaN   \n",
       "4       TN     Bedford County, TN      NaN            NaN               NaN   \n",
       "..     ...                    ...      ...            ...               ...   \n",
       "736     TN       White County, TN   9.0721         6.3879            5114:1   \n",
       "737     TN     McNairy County, TN   0.6700         3.2300           17452:1   \n",
       "738     TN      Sevier County, TN   5.4700         6.9400            6807:1   \n",
       "739     TN      Macon County, TN    1.3900         2.6700            8755:1   \n",
       "740     TN   Trousdale County, TN   1.3900         2.6700            8755:1   \n",
       "\n",
       "    HPSA Designation Population % of Population Below 100% Poverty  \\\n",
       "0                       17444.0                               17.9   \n",
       "1                       59090.0                                NaN   \n",
       "2                       11318.0                                NaN   \n",
       "3                       17229.0                                NaN   \n",
       "4                      145826.0                                NaN   \n",
       "..                          ...                                ...   \n",
       "736                     46395.0                               24.3   \n",
       "737                     11693.0                               18.8   \n",
       "738                     37235.0                               13.6   \n",
       "739                     12169.0                               15.2   \n",
       "740                     12169.0                               15.2   \n",
       "\n",
       "     Metropolitan Indicator  Rural Status Multi-County  \n",
       "0          Non-Metropolitan         Rural           No  \n",
       "1                   Unknown         Rural           No  \n",
       "2          Non-Metropolitan         Rural           No  \n",
       "3                   Unknown     Non-Rural           No  \n",
       "4                   Unknown         Rural           No  \n",
       "..                      ...           ...          ...  \n",
       "736                 Unknown         Rural          Yes  \n",
       "737                 Unknown         Rural           No  \n",
       "738                 Unknown         Rural           No  \n",
       "739                 Unknown         Rural          Yes  \n",
       "740                 Unknown         Rural          Yes  \n",
       "\n",
       "[741 rows x 25 columns]"
      ]
     },
     "execution_count": 3,
     "metadata": {},
     "output_type": "execute_result"
    }
   ],
   "source": [
    "#dropping columns that aren't needed for this analysis\n",
    "tn_hpsa = tn_hpsa.drop(columns = ['HPSA Degree of Shortage', 'HHS Region'])\n",
    "\n",
    "#reorganizing columns to allow most pertinent to be readily visible in jupyter notebook\n",
    "tn_hpsa = tn_hpsa[['HPSA Name', 'HPSA ID', 'Designation Type', 'HPSA Discipline Class', 'HPSA Population Type',\n",
    "                   'HPSA Score', 'HPSA Status', 'HPSA Designation Date', 'HPSA Designation Last Update', 'Withdrawn Date', \n",
    "                   'Longitude', 'Latitude','Address', 'ZIP', 'City', 'State', 'County', \n",
    "                   'HPSA FTE', '# of FTE Short', 'HPSA Formal Ratio', 'HPSA Designation Population', \n",
    "                   '% of Population Below 100% Poverty', 'Metropolitan Indicator', 'Rural Status']]\n",
    "\n",
    "#filling in null values in the County column\n",
    "tn_hpsa.loc[tn_hpsa['County'].isna(), ['County']] = 'Not Entered'\n",
    "\n",
    "#creating a column to identify those rows that contain HPSA designations that cover multiple counties\n",
    "tn_hpsa.loc[tn_hpsa['County'].str.contains(pat='\\|'), ['Multi-County']] = 'Yes'\n",
    "tn_hpsa.loc[~tn_hpsa['County'].str.contains(pat='\\|'), ['Multi-County']] = 'No'\n",
    "\n",
    "#Splitting out the multi-county designations so that each county is represented singley in its own row \n",
    "tn_hpsa['County'] = tn_hpsa['County'].str.split('|')\n",
    "tn_hpsa = tn_hpsa.apply(pd.Series.explode)\n",
    "tn_hpsa = tn_hpsa.reset_index(drop=True)\n",
    "\n",
    "tn_hpsa"
   ]
  },
  {
   "cell_type": "code",
   "execution_count": 57,
   "id": "6b511a89",
   "metadata": {
    "scrolled": true
   },
   "outputs": [
    {
     "data": {
      "text/plain": [
       "Rural              386\n",
       "Non-Rural          172\n",
       "Partially Rural     39\n",
       "Unknown             14\n",
       "Name: Rural Status, dtype: int64"
      ]
     },
     "execution_count": 57,
     "metadata": {},
     "output_type": "execute_result"
    }
   ],
   "source": [
    "#the duplicated statement is accounting for those multi-county HPSAs that I exploded out into multiple rows\n",
    "tn_hpsa.loc[~tn_hpsa.duplicated(['HPSA ID'])]['Rural Status'].value_counts()"
   ]
  },
  {
   "cell_type": "code",
   "execution_count": 58,
   "id": "4b1b3826",
   "metadata": {},
   "outputs": [
    {
     "data": {
      "text/plain": [
       "Rural              0.631751\n",
       "Non-Rural          0.281506\n",
       "Partially Rural    0.063830\n",
       "Unknown            0.022913\n",
       "Name: Rural Status, dtype: float64"
      ]
     },
     "execution_count": 58,
     "metadata": {},
     "output_type": "execute_result"
    }
   ],
   "source": [
    "tn_hpsa.loc[~tn_hpsa.duplicated(['HPSA ID'])]['Rural Status'].value_counts(normalize=True)"
   ]
  },
  {
   "cell_type": "code",
   "execution_count": 59,
   "id": "78826ebf",
   "metadata": {
    "scrolled": false
   },
   "outputs": [
    {
     "data": {
      "text/plain": [
       "Primary Care     285\n",
       "Dental Health    211\n",
       "Mental Health    115\n",
       "Name: HPSA Discipline Class, dtype: int64"
      ]
     },
     "execution_count": 59,
     "metadata": {},
     "output_type": "execute_result"
    }
   ],
   "source": [
    "tn_hpsa.loc[~tn_hpsa.duplicated(['HPSA ID'])]['HPSA Discipline Class'].value_counts()"
   ]
  },
  {
   "cell_type": "code",
   "execution_count": 60,
   "id": "fa18041d",
   "metadata": {},
   "outputs": [
    {
     "data": {
      "text/plain": [
       "Primary Care     0.466448\n",
       "Dental Health    0.345336\n",
       "Mental Health    0.188216\n",
       "Name: HPSA Discipline Class, dtype: float64"
      ]
     },
     "execution_count": 60,
     "metadata": {},
     "output_type": "execute_result"
    }
   ],
   "source": [
    "tn_hpsa.loc[~tn_hpsa.duplicated(['HPSA ID'])]['HPSA Discipline Class'].value_counts(normalize=True)"
   ]
  },
  {
   "cell_type": "code",
   "execution_count": 79,
   "id": "4c2490f5",
   "metadata": {},
   "outputs": [
    {
     "data": {
      "text/plain": [
       "HPSA Population                                  250\n",
       "Rural Health Clinic                              108\n",
       "Federally Qualified Health Center                 93\n",
       "Geographic HPSA                                   74\n",
       "High Needs Geographic HPSA                        44\n",
       "Correctional Facility                             21\n",
       "Other Facility                                     8\n",
       "Federally Qualified Health Center Look A Like      7\n",
       "State Mental Hospital                              6\n",
       "Name: Designation Type, dtype: int64"
      ]
     },
     "execution_count": 79,
     "metadata": {},
     "output_type": "execute_result"
    }
   ],
   "source": [
    "tn_hpsa.loc[~tn_hpsa.duplicated(['HPSA ID'])]['Designation Type'].value_counts()"
   ]
  },
  {
   "cell_type": "code",
   "execution_count": 80,
   "id": "c9576991",
   "metadata": {},
   "outputs": [
    {
     "data": {
      "text/plain": [
       "HPSA Population                                  0.409165\n",
       "Rural Health Clinic                              0.176759\n",
       "Federally Qualified Health Center                0.152209\n",
       "Geographic HPSA                                  0.121113\n",
       "High Needs Geographic HPSA                       0.072013\n",
       "Correctional Facility                            0.034370\n",
       "Other Facility                                   0.013093\n",
       "Federally Qualified Health Center Look A Like    0.011457\n",
       "State Mental Hospital                            0.009820\n",
       "Name: Designation Type, dtype: float64"
      ]
     },
     "execution_count": 80,
     "metadata": {},
     "output_type": "execute_result"
    }
   ],
   "source": [
    "tn_hpsa.loc[~tn_hpsa.duplicated(['HPSA ID'])]['Designation Type'].value_counts(normalize=True)"
   ]
  },
  {
   "cell_type": "markdown",
   "id": "fe43d8a0",
   "metadata": {},
   "source": [
    "### The next section hones in on those HPSA designations that are currently active and apply to rural and partially-rural areas"
   ]
  },
  {
   "cell_type": "code",
   "execution_count": 4,
   "id": "384cd36b",
   "metadata": {
    "scrolled": true
   },
   "outputs": [
    {
     "name": "stdout",
     "output_type": "stream",
     "text": [
      "<class 'pandas.core.frame.DataFrame'>\n",
      "RangeIndex: 351 entries, 0 to 350\n",
      "Data columns (total 25 columns):\n",
      " #   Column                              Non-Null Count  Dtype  \n",
      "---  ------                              --------------  -----  \n",
      " 0   HPSA Name                           351 non-null    object \n",
      " 1   HPSA ID                             351 non-null    object \n",
      " 2   Designation Type                    351 non-null    object \n",
      " 3   HPSA Discipline Class               351 non-null    object \n",
      " 4   HPSA Population Type                271 non-null    object \n",
      " 5   HPSA Score                          351 non-null    int64  \n",
      " 6   HPSA Status                         351 non-null    object \n",
      " 7   HPSA Designation Date               351 non-null    object \n",
      " 8   HPSA Designation Last Update        351 non-null    object \n",
      " 9   Withdrawn Date                      0 non-null      object \n",
      " 10  Longitude                           80 non-null     float64\n",
      " 11  Latitude                            80 non-null     float64\n",
      " 12  Address                             80 non-null     object \n",
      " 13  ZIP                                 80 non-null     object \n",
      " 14  City                                80 non-null     object \n",
      " 15  State                               351 non-null    object \n",
      " 16  County                              351 non-null    object \n",
      " 17  HPSA FTE                            282 non-null    float64\n",
      " 18  # of FTE Short                      281 non-null    float64\n",
      " 19  HPSA Formal Ratio                   205 non-null    object \n",
      " 20  HPSA Designation Population         351 non-null    float64\n",
      " 21  % of Population Below 100% Poverty  271 non-null    float64\n",
      " 22  Metropolitan Indicator              351 non-null    object \n",
      " 23  Rural Status                        351 non-null    object \n",
      " 24  Multi-County                        351 non-null    object \n",
      "dtypes: float64(6), int64(1), object(18)\n",
      "memory usage: 68.7+ KB\n"
     ]
    }
   ],
   "source": [
    "tn_rur_hpsa = tn_hpsa.loc[(tn_hpsa['HPSA Status'] != 'Withdrawn')\n",
    "                         & (tn_hpsa['Rural Status'] != 'Non-Rural')].reset_index(drop=True)\n",
    "tn_rur_hpsa.info()"
   ]
  },
  {
   "cell_type": "code",
   "execution_count": 71,
   "id": "60f7cbb8",
   "metadata": {
    "scrolled": false
   },
   "outputs": [
    {
     "data": {
      "text/plain": [
       "Rural              226\n",
       "Partially Rural     26\n",
       "Name: Rural Status, dtype: int64"
      ]
     },
     "execution_count": 71,
     "metadata": {},
     "output_type": "execute_result"
    }
   ],
   "source": [
    "tn_rur_hpsa.loc[~tn_rur_hpsa.duplicated(['HPSA ID'])]['Rural Status'].value_counts()"
   ]
  },
  {
   "cell_type": "code",
   "execution_count": 71,
   "id": "1b69a082",
   "metadata": {
    "scrolled": true
   },
   "outputs": [
    {
     "data": {
      "text/plain": [
       "Rural              226\n",
       "Partially Rural     26\n",
       "Name: Rural Status, dtype: int64"
      ]
     },
     "execution_count": 71,
     "metadata": {},
     "output_type": "execute_result"
    }
   ],
   "source": [
    "tn_rur_hpsa.loc[~tn_rur_hpsa.duplicated(['HPSA ID'])]['Rural Status'].value_counts(normalize=True)"
   ]
  },
  {
   "cell_type": "code",
   "execution_count": 72,
   "id": "dad2d079",
   "metadata": {
    "scrolled": false
   },
   "outputs": [
    {
     "data": {
      "text/plain": [
       "HPSA Population                      135\n",
       "Federally Qualified Health Center     36\n",
       "Rural Health Clinic                   33\n",
       "Geographic HPSA                       19\n",
       "High Needs Geographic HPSA            18\n",
       "Correctional Facility                 10\n",
       "State Mental Hospital                  1\n",
       "Name: Designation Type, dtype: int64"
      ]
     },
     "execution_count": 72,
     "metadata": {},
     "output_type": "execute_result"
    }
   ],
   "source": [
    "tn_rur_hpsa.loc[~tn_rur_hpsa.duplicated(['HPSA ID'])]['Designation Type'].value_counts()"
   ]
  },
  {
   "cell_type": "code",
   "execution_count": 81,
   "id": "928c8d80",
   "metadata": {
    "scrolled": false
   },
   "outputs": [
    {
     "data": {
      "text/plain": [
       "HPSA Population                      0.535714\n",
       "Federally Qualified Health Center    0.142857\n",
       "Rural Health Clinic                  0.130952\n",
       "Geographic HPSA                      0.075397\n",
       "High Needs Geographic HPSA           0.071429\n",
       "Correctional Facility                0.039683\n",
       "State Mental Hospital                0.003968\n",
       "Name: Designation Type, dtype: float64"
      ]
     },
     "execution_count": 81,
     "metadata": {},
     "output_type": "execute_result"
    }
   ],
   "source": [
    "tn_rur_hpsa.loc[~tn_rur_hpsa.duplicated(['HPSA ID'])]['Designation Type'].value_counts(normalize=True)"
   ]
  },
  {
   "cell_type": "code",
   "execution_count": 73,
   "id": "0852308e",
   "metadata": {
    "scrolled": true
   },
   "outputs": [
    {
     "data": {
      "text/plain": [
       "Designated                 218\n",
       "Proposed For Withdrawal     34\n",
       "Name: HPSA Status, dtype: int64"
      ]
     },
     "execution_count": 73,
     "metadata": {},
     "output_type": "execute_result"
    }
   ],
   "source": [
    "tn_rur_hpsa.loc[~tn_rur_hpsa.duplicated(['HPSA ID'])]['HPSA Status'].value_counts()"
   ]
  },
  {
   "cell_type": "code",
   "execution_count": 74,
   "id": "553d5cbe",
   "metadata": {},
   "outputs": [
    {
     "data": {
      "text/plain": [
       "Primary Care     104\n",
       "Dental Health    104\n",
       "Mental Health     44\n",
       "Name: HPSA Discipline Class, dtype: int64"
      ]
     },
     "execution_count": 74,
     "metadata": {},
     "output_type": "execute_result"
    }
   ],
   "source": [
    "tn_rur_hpsa.loc[~tn_rur_hpsa.duplicated(['HPSA ID'])]['HPSA Discipline Class'].value_counts()"
   ]
  },
  {
   "cell_type": "code",
   "execution_count": 75,
   "id": "0a33b46a",
   "metadata": {},
   "outputs": [
    {
     "data": {
      "text/plain": [
       "Primary Care     0.412698\n",
       "Dental Health    0.412698\n",
       "Mental Health    0.174603\n",
       "Name: HPSA Discipline Class, dtype: float64"
      ]
     },
     "execution_count": 75,
     "metadata": {},
     "output_type": "execute_result"
    }
   ],
   "source": [
    "tn_rur_hpsa.loc[~tn_rur_hpsa.duplicated(['HPSA ID'])]['HPSA Discipline Class'].value_counts(normalize=True)"
   ]
  },
  {
   "cell_type": "code",
   "execution_count": 8,
   "id": "b33d9834",
   "metadata": {
    "scrolled": true
   },
   "outputs": [],
   "source": [
    "#splitting out the different types of HPSA designations (facility, geographic, population)\n",
    "tn_rur_hpsa_fac = tn_rur_hpsa.loc[tn_rur_hpsa['Designation Type'].isin(['Federally Qualified Health Center', \n",
    "                                                                       'Rural Health Clinic', \n",
    "                                                                        'Federally Qualified Health Center Look A Like'])]\n",
    "tn_rur_hpsa_geo = tn_rur_hpsa.loc[tn_rur_hpsa['Designation Type'].isin(['Geographic HPSA', \n",
    "                                                                       'High Needs Geographic HPSA'])]\n",
    "tn_rur_hpsa_pop = tn_rur_hpsa.loc[tn_rur_hpsa['Designation Type'] =='HPSA Population']"
   ]
  },
  {
   "cell_type": "markdown",
   "id": "20fbde8c",
   "metadata": {},
   "source": [
    "#### Facility-based HPSA info"
   ]
  },
  {
   "cell_type": "code",
   "execution_count": 77,
   "id": "7a9472ef",
   "metadata": {
    "scrolled": false
   },
   "outputs": [
    {
     "data": {
      "text/plain": [
       "Primary Care     23\n",
       "Mental Health    23\n",
       "Dental Health    23\n",
       "Name: HPSA Discipline Class, dtype: int64"
      ]
     },
     "execution_count": 77,
     "metadata": {},
     "output_type": "execute_result"
    }
   ],
   "source": [
    "tn_rur_hpsa_fac.loc[~tn_rur_hpsa_fac.duplicated(['HPSA ID'])]['HPSA Discipline Class'].value_counts()"
   ]
  },
  {
   "cell_type": "code",
   "execution_count": 78,
   "id": "432404b2",
   "metadata": {},
   "outputs": [
    {
     "data": {
      "text/plain": [
       "Primary Care     0.333333\n",
       "Mental Health    0.333333\n",
       "Dental Health    0.333333\n",
       "Name: HPSA Discipline Class, dtype: float64"
      ]
     },
     "execution_count": 78,
     "metadata": {},
     "output_type": "execute_result"
    }
   ],
   "source": [
    "tn_rur_hpsa_fac.loc[~tn_rur_hpsa_fac.duplicated(['HPSA ID'])]['HPSA Discipline Class'].value_counts(normalize=True)"
   ]
  },
  {
   "cell_type": "code",
   "execution_count": 11,
   "id": "bc9d61e6",
   "metadata": {
    "scrolled": true
   },
   "outputs": [
    {
     "data": {
      "text/plain": [
       "County                 HPSA Discipline Class\n",
       "Campbell County, TN    Dental Health            3\n",
       "                       Mental Health            3\n",
       "                       Primary Care             3\n",
       "Hardeman County, TN    Mental Health            2\n",
       "                       Dental Health            2\n",
       "                       Primary Care             2\n",
       "Bedford County, TN     Dental Health            1\n",
       "Meigs County, TN       Mental Health            1\n",
       "                       Dental Health            1\n",
       "Maury County, TN       Primary Care             1\n",
       "                       Mental Health            1\n",
       "                       Dental Health            1\n",
       "Monroe County, TN      Dental Health            1\n",
       "Lake County, TN        Primary Care             1\n",
       "                       Mental Health            1\n",
       "                       Dental Health            1\n",
       "Johnson County, TN     Primary Care             1\n",
       "Meigs County, TN       Primary Care             1\n",
       "Monroe County, TN      Primary Care             1\n",
       "                       Mental Health            1\n",
       "Johnson County, TN     Dental Health            1\n",
       "Perry County, TN       Dental Health            1\n",
       "                       Mental Health            1\n",
       "                       Primary Care             1\n",
       "Polk County, TN        Dental Health            1\n",
       "                       Mental Health            1\n",
       "                       Primary Care             1\n",
       "Scott County, TN       Dental Health            1\n",
       "                       Mental Health            1\n",
       "                       Primary Care             1\n",
       "Van Buren County, TN   Dental Health            1\n",
       "                       Mental Health            1\n",
       "Johnson County, TN     Mental Health            1\n",
       "Hawkins County, TN     Dental Health            1\n",
       "                       Primary Care             1\n",
       "                       Mental Health            1\n",
       "Bedford County, TN     Primary Care             1\n",
       "Cheatham County, TN    Dental Health            1\n",
       "                       Mental Health            1\n",
       "                       Primary Care             1\n",
       "Chester County, TN     Dental Health            1\n",
       "                       Mental Health            1\n",
       "                       Primary Care             1\n",
       "Claiborne County, TN   Dental Health            1\n",
       "                       Mental Health            1\n",
       "                       Primary Care             1\n",
       "Cocke County, TN       Dental Health            1\n",
       "                       Mental Health            1\n",
       "                       Primary Care             1\n",
       "Cumberland County, TN  Dental Health            1\n",
       "                       Mental Health            1\n",
       "                       Primary Care             1\n",
       "Gibson County, TN      Dental Health            1\n",
       "                       Mental Health            1\n",
       "                       Primary Care             1\n",
       "Hardin County, TN      Dental Health            1\n",
       "                       Mental Health            1\n",
       "                       Primary Care             1\n",
       "Bedford County, TN     Mental Health            1\n",
       "Van Buren County, TN   Primary Care             1\n",
       "dtype: int64"
      ]
     },
     "execution_count": 11,
     "metadata": {},
     "output_type": "execute_result"
    }
   ],
   "source": [
    "tn_rur_hpsa_fac[['County', 'HPSA Discipline Class']].value_counts()"
   ]
  },
  {
   "cell_type": "code",
   "execution_count": 17,
   "id": "2a15a3ee",
   "metadata": {
    "scrolled": true
   },
   "outputs": [
    {
     "data": {
      "text/plain": [
       "HPSA Score  County               \n",
       "25          Polk County, TN          1\n",
       "            Hawkins County, TN       1\n",
       "            Hardin County, TN        1\n",
       "            Cocke County, TN         1\n",
       "            Campbell County, TN      2\n",
       "23          Lake County, TN          1\n",
       "            Hardin County, TN        1\n",
       "22          Cocke County, TN         1\n",
       "21          Scott County, TN         1\n",
       "            Perry County, TN         1\n",
       "            Lake County, TN          1\n",
       "            Hawkins County, TN       1\n",
       "            Hardeman County, TN      1\n",
       "            Campbell County, TN      2\n",
       "20          Scott County, TN         2\n",
       "            Perry County, TN         1\n",
       "            Monroe County, TN        1\n",
       "            Hardeman County, TN      1\n",
       "            Campbell County, TN      2\n",
       "19          Polk County, TN          2\n",
       "            Perry County, TN         1\n",
       "            Monroe County, TN        1\n",
       "            Maury County, TN         1\n",
       "            Lake County, TN          1\n",
       "            Johnson County, TN       1\n",
       "            Hardin County, TN        1\n",
       "            Claiborne County, TN     1\n",
       "            Campbell County, TN      1\n",
       "18          Maury County, TN         1\n",
       "            Johnson County, TN       2\n",
       "            Hardeman County, TN      1\n",
       "            Claiborne County, TN     1\n",
       "            Campbell County, TN      1\n",
       "17          Van Buren County, TN     2\n",
       "            Meigs County, TN         2\n",
       "            Hardeman County, TN      3\n",
       "            Gibson County, TN        1\n",
       "            Cumberland County, TN    2\n",
       "            Claiborne County, TN     1\n",
       "            Chester County, TN       2\n",
       "            Campbell County, TN      1\n",
       "16          Bedford County, TN       1\n",
       "15          Van Buren County, TN     1\n",
       "            Monroe County, TN        1\n",
       "            Meigs County, TN         1\n",
       "            Gibson County, TN        1\n",
       "            Cumberland County, TN    1\n",
       "            Cocke County, TN         1\n",
       "            Chester County, TN       1\n",
       "            Cheatham County, TN      1\n",
       "            Bedford County, TN       1\n",
       "14          Maury County, TN         1\n",
       "            Gibson County, TN        1\n",
       "13          Bedford County, TN       1\n",
       "11          Hawkins County, TN       1\n",
       "            Cheatham County, TN      1\n",
       "8           Cheatham County, TN      1\n",
       "dtype: int64"
      ]
     },
     "execution_count": 17,
     "metadata": {},
     "output_type": "execute_result"
    }
   ],
   "source": [
    "tn_rur_hpsa_fac[['HPSA Score', 'County']].value_counts().sort_index(ascending=False)"
   ]
  },
  {
   "cell_type": "code",
   "execution_count": 82,
   "id": "4426090e",
   "metadata": {
    "scrolled": true
   },
   "outputs": [
    {
     "data": {
      "text/plain": [
       "HPSA Discipline Class  HPSA Score\n",
       "Primary Care           21            1\n",
       "                       20            3\n",
       "                       19            4\n",
       "                       18            2\n",
       "                       17            4\n",
       "                       16            1\n",
       "                       15            4\n",
       "                       14            2\n",
       "                       11            1\n",
       "                       8             1\n",
       "Mental Health          23            1\n",
       "                       22            1\n",
       "                       21            3\n",
       "                       20            4\n",
       "                       19            2\n",
       "                       18            4\n",
       "                       17            6\n",
       "                       15            2\n",
       "Dental Health          25            6\n",
       "                       23            1\n",
       "                       21            3\n",
       "                       19            4\n",
       "                       17            4\n",
       "                       15            3\n",
       "                       13            1\n",
       "                       11            1\n",
       "dtype: int64"
      ]
     },
     "execution_count": 82,
     "metadata": {},
     "output_type": "execute_result"
    }
   ],
   "source": [
    "tn_rur_hpsa_fac.loc[~tn_rur_hpsa_fac.duplicated(['HPSA ID'])][['HPSA Discipline Class', \n",
    "                                                               'HPSA Score']].value_counts().sort_index(ascending=False)"
   ]
  },
  {
   "cell_type": "markdown",
   "id": "d7f1f9d1",
   "metadata": {},
   "source": [
    "#### Geographically-based HPSA info"
   ]
  },
  {
   "cell_type": "code",
   "execution_count": 83,
   "id": "f44ed598",
   "metadata": {
    "scrolled": false
   },
   "outputs": [
    {
     "data": {
      "text/plain": [
       "Primary Care     24\n",
       "Mental Health     9\n",
       "Dental Health     4\n",
       "Name: HPSA Discipline Class, dtype: int64"
      ]
     },
     "execution_count": 83,
     "metadata": {},
     "output_type": "execute_result"
    }
   ],
   "source": [
    "tn_rur_hpsa_geo.loc[~tn_rur_hpsa_geo.duplicated(['HPSA ID'])]['HPSA Discipline Class'].value_counts()"
   ]
  },
  {
   "cell_type": "code",
   "execution_count": 29,
   "id": "2ca1d965",
   "metadata": {
    "scrolled": true
   },
   "outputs": [
    {
     "data": {
      "text/plain": [
       "County                \n",
       "Wayne County, TN          2\n",
       "Lake County, TN           2\n",
       "Grundy County, TN         2\n",
       "Hancock County, TN        2\n",
       "Carter County, TN         1\n",
       "                         ..\n",
       " Robertson County, TN     1\n",
       " Stewart County, TN       1\n",
       " Sullivan County, TN      1\n",
       " Unicoi County, TN        1\n",
       " Weakley County, TN       1\n",
       "Length: 68, dtype: int64"
      ]
     },
     "execution_count": 29,
     "metadata": {},
     "output_type": "execute_result"
    }
   ],
   "source": [
    "tn_rur_hpsa_geo[['County']].value_counts()"
   ]
  },
  {
   "cell_type": "code",
   "execution_count": 84,
   "id": "d4733d14",
   "metadata": {},
   "outputs": [
    {
     "data": {
      "text/plain": [
       "HPSA Score\n",
       "20            1\n",
       "19            1\n",
       "18            3\n",
       "17            3\n",
       "16            3\n",
       "15            4\n",
       "14            2\n",
       "13            6\n",
       "12            5\n",
       "11            5\n",
       "10            2\n",
       "9             2\n",
       "dtype: int64"
      ]
     },
     "execution_count": 84,
     "metadata": {},
     "output_type": "execute_result"
    }
   ],
   "source": [
    "tn_rur_hpsa_geo.loc[~tn_rur_hpsa_geo.duplicated(['HPSA ID'])][['HPSA Score']].value_counts().sort_index(ascending=False)"
   ]
  },
  {
   "cell_type": "code",
   "execution_count": 85,
   "id": "599dd7f1",
   "metadata": {},
   "outputs": [
    {
     "data": {
      "text/plain": [
       "HPSA Discipline Class  HPSA Score\n",
       "Primary Care           19            1\n",
       "                       18            2\n",
       "                       17            2\n",
       "                       16            2\n",
       "                       15            2\n",
       "                       13            4\n",
       "                       12            3\n",
       "                       11            5\n",
       "                       10            1\n",
       "                       9             2\n",
       "Mental Health          18            1\n",
       "                       17            1\n",
       "                       16            1\n",
       "                       15            1\n",
       "                       14            1\n",
       "                       13            2\n",
       "                       12            2\n",
       "Dental Health          20            1\n",
       "                       15            1\n",
       "                       14            1\n",
       "                       10            1\n",
       "dtype: int64"
      ]
     },
     "execution_count": 85,
     "metadata": {},
     "output_type": "execute_result"
    }
   ],
   "source": [
    "tn_rur_hpsa_geo.loc[~tn_rur_hpsa_geo.duplicated(['HPSA ID'])][['HPSA Discipline Class', \n",
    "                                                               'HPSA Score']].value_counts().sort_index(ascending=False)"
   ]
  },
  {
   "cell_type": "markdown",
   "id": "9ae6546c",
   "metadata": {},
   "source": [
    "#### Population-based HPSA info"
   ]
  },
  {
   "cell_type": "code",
   "execution_count": 86,
   "id": "024c25b1",
   "metadata": {
    "scrolled": true
   },
   "outputs": [
    {
     "data": {
      "text/plain": [
       "Dental Health    73\n",
       "Primary Care     51\n",
       "Mental Health    11\n",
       "Name: HPSA Discipline Class, dtype: int64"
      ]
     },
     "execution_count": 86,
     "metadata": {},
     "output_type": "execute_result"
    }
   ],
   "source": [
    "tn_rur_hpsa_pop.loc[~tn_rur_hpsa_pop.duplicated(['HPSA ID'])]['HPSA Discipline Class'].value_counts()"
   ]
  },
  {
   "cell_type": "code",
   "execution_count": 34,
   "id": "5a421fc8",
   "metadata": {
    "scrolled": true
   },
   "outputs": [
    {
     "data": {
      "text/plain": [
       "County                 HPSA Discipline Class\n",
       "Putnam County, TN      Primary Care             2\n",
       " White County, TN      Primary Care             2\n",
       " Campbell County, TN   Mental Health            1\n",
       "Humphreys County, TN   Dental Health            1\n",
       "Haywood County, TN     Primary Care             1\n",
       "                                               ..\n",
       "Bledsoe County, TN     Dental Health            1\n",
       "Bledsoe County, TN     Mental Health            1\n",
       "Blount County, TN      Dental Health            1\n",
       "                       Primary Care             1\n",
       "White County, TN       Dental Health            1\n",
       "Length: 197, dtype: int64"
      ]
     },
     "execution_count": 34,
     "metadata": {},
     "output_type": "execute_result"
    }
   ],
   "source": [
    "tn_rur_hpsa_pop[['County', 'HPSA Discipline Class']].value_counts()"
   ]
  },
  {
   "cell_type": "code",
   "execution_count": 87,
   "id": "5be80d92",
   "metadata": {},
   "outputs": [
    {
     "data": {
      "text/plain": [
       "Low Income Population HPSA    135\n",
       "Name: HPSA Population Type, dtype: int64"
      ]
     },
     "execution_count": 87,
     "metadata": {},
     "output_type": "execute_result"
    }
   ],
   "source": [
    "tn_rur_hpsa_pop.loc[~tn_rur_hpsa_pop.duplicated(['HPSA ID'])]['HPSA Population Type'].value_counts()"
   ]
  },
  {
   "cell_type": "code",
   "execution_count": 88,
   "id": "2a1c8b86",
   "metadata": {},
   "outputs": [
    {
     "data": {
      "text/plain": [
       "HPSA Score\n",
       "19             8\n",
       "18            14\n",
       "17            37\n",
       "16            16\n",
       "15            24\n",
       "14             5\n",
       "13            12\n",
       "12             5\n",
       "11             5\n",
       "10             1\n",
       "9              3\n",
       "8              1\n",
       "7              4\n",
       "dtype: int64"
      ]
     },
     "execution_count": 88,
     "metadata": {},
     "output_type": "execute_result"
    }
   ],
   "source": [
    "tn_rur_hpsa_pop.loc[~tn_rur_hpsa_pop.duplicated(['HPSA ID'])][['HPSA Score']].value_counts().sort_index(ascending=False)"
   ]
  },
  {
   "cell_type": "code",
   "execution_count": 93,
   "id": "3615cadb",
   "metadata": {},
   "outputs": [
    {
     "data": {
      "text/plain": [
       "HPSA Discipline Class  HPSA Score\n",
       "Primary Care           18             4\n",
       "                       17             6\n",
       "                       16            10\n",
       "                       15            10\n",
       "                       14             3\n",
       "                       13             6\n",
       "                       12             4\n",
       "                       11             2\n",
       "                       10             1\n",
       "                       9              2\n",
       "                       8              1\n",
       "                       7              2\n",
       "Mental Health          17             8\n",
       "                       16             2\n",
       "                       15             1\n",
       "Dental Health          19             8\n",
       "                       18            10\n",
       "                       17            23\n",
       "                       16             4\n",
       "                       15            13\n",
       "                       14             2\n",
       "                       13             6\n",
       "                       12             1\n",
       "                       11             3\n",
       "                       9              1\n",
       "                       7              2\n",
       "dtype: int64"
      ]
     },
     "execution_count": 93,
     "metadata": {},
     "output_type": "execute_result"
    }
   ],
   "source": [
    "tn_rur_hpsa_pop.loc[~tn_rur_hpsa_pop.duplicated(['HPSA ID'])][['HPSA Discipline Class', \n",
    "                                                               'HPSA Score']].value_counts().sort_index(ascending=False)"
   ]
  },
  {
   "cell_type": "markdown",
   "id": "b49bd76f",
   "metadata": {},
   "source": [
    "#### Exploring HPSA designations that have been proposed for withdrawal"
   ]
  },
  {
   "cell_type": "code",
   "execution_count": 39,
   "id": "d1a487df",
   "metadata": {},
   "outputs": [],
   "source": [
    "tn_hpsa_prop_wi = tn_hpsa.loc[tn_hpsa['HPSA Status'] == 'Proposed For Withdrawal']"
   ]
  },
  {
   "cell_type": "code",
   "execution_count": 94,
   "id": "8df5be33",
   "metadata": {
    "scrolled": true
   },
   "outputs": [
    {
     "data": {
      "text/plain": [
       "HPSA Population               15\n",
       "Correctional Facility         10\n",
       "Geographic HPSA                7\n",
       "High Needs Geographic HPSA     6\n",
       "State Mental Hospital          3\n",
       "Name: Designation Type, dtype: int64"
      ]
     },
     "execution_count": 94,
     "metadata": {},
     "output_type": "execute_result"
    }
   ],
   "source": [
    "tn_hpsa_prop_wi.loc[~tn_hpsa_prop_wi.duplicated(['HPSA ID'])]['Designation Type'].value_counts()"
   ]
  },
  {
   "cell_type": "code",
   "execution_count": 95,
   "id": "6b827b70",
   "metadata": {
    "scrolled": true
   },
   "outputs": [
    {
     "data": {
      "text/plain": [
       "HPSA Population               0.365854\n",
       "Correctional Facility         0.243902\n",
       "Geographic HPSA               0.170732\n",
       "High Needs Geographic HPSA    0.146341\n",
       "State Mental Hospital         0.073171\n",
       "Name: Designation Type, dtype: float64"
      ]
     },
     "execution_count": 95,
     "metadata": {},
     "output_type": "execute_result"
    }
   ],
   "source": [
    "tn_hpsa_prop_wi.loc[~tn_hpsa_prop_wi.duplicated(['HPSA ID'])]['Designation Type'].value_counts(normalize=True)"
   ]
  },
  {
   "cell_type": "code",
   "execution_count": 96,
   "id": "1b8ee921",
   "metadata": {
    "scrolled": true
   },
   "outputs": [
    {
     "data": {
      "text/plain": [
       "Rural              26\n",
       "Partially Rural     8\n",
       "Non-Rural           7\n",
       "Name: Rural Status, dtype: int64"
      ]
     },
     "execution_count": 96,
     "metadata": {},
     "output_type": "execute_result"
    }
   ],
   "source": [
    "tn_hpsa_prop_wi.loc[~tn_hpsa_prop_wi.duplicated(['HPSA ID'])]['Rural Status'].value_counts()"
   ]
  },
  {
   "cell_type": "code",
   "execution_count": 97,
   "id": "50e00b56",
   "metadata": {
    "scrolled": true
   },
   "outputs": [
    {
     "data": {
      "text/plain": [
       "Rural              0.634146\n",
       "Partially Rural    0.195122\n",
       "Non-Rural          0.170732\n",
       "Name: Rural Status, dtype: float64"
      ]
     },
     "execution_count": 97,
     "metadata": {},
     "output_type": "execute_result"
    }
   ],
   "source": [
    "tn_hpsa_prop_wi.loc[~tn_hpsa_prop_wi.duplicated(['HPSA ID'])]['Rural Status'].value_counts(normalize=True)"
   ]
  },
  {
   "cell_type": "code",
   "execution_count": 100,
   "id": "07ff1b70",
   "metadata": {
    "scrolled": true
   },
   "outputs": [],
   "source": [
    "tn_rur_hpsa_prop_wi_fac = tn_hpsa_prop_wi.loc[(tn_hpsa_prop_wi['Designation Type'].isin(['State Mental Hospital']))\n",
    "                                     & (tn_hpsa_prop_wi['Rural Status'] != 'Non-Rural')]\n",
    "\n",
    "tn_rur_hpsa_prop_wi_geo = tn_hpsa_prop_wi.loc[(tn_hpsa_prop_wi['Designation Type'].isin(['Geographic HPSA', \n",
    "                                                                       'High Needs Geographic HPSA']))\n",
    "                                     & (tn_hpsa_prop_wi['Rural Status'] != 'Non-Rural')]\n",
    "\n",
    "tn_rur_hpsa_prop_wi_pop = tn_hpsa_prop_wi.loc[tn_hpsa_prop_wi['Designation Type'].isin(['HPSA Population'])\n",
    "                                 & (tn_hpsa_prop_wi['Rural Status'] != 'Non-Rural')]"
   ]
  },
  {
   "cell_type": "code",
   "execution_count": 104,
   "id": "bc06da5d",
   "metadata": {
    "scrolled": true
   },
   "outputs": [
    {
     "data": {
      "text/html": [
       "<div>\n",
       "<style scoped>\n",
       "    .dataframe tbody tr th:only-of-type {\n",
       "        vertical-align: middle;\n",
       "    }\n",
       "\n",
       "    .dataframe tbody tr th {\n",
       "        vertical-align: top;\n",
       "    }\n",
       "\n",
       "    .dataframe thead th {\n",
       "        text-align: right;\n",
       "    }\n",
       "</style>\n",
       "<table border=\"1\" class=\"dataframe\">\n",
       "  <thead>\n",
       "    <tr style=\"text-align: right;\">\n",
       "      <th></th>\n",
       "      <th>HPSA Name</th>\n",
       "      <th>HPSA ID</th>\n",
       "      <th>Designation Type</th>\n",
       "      <th>HPSA Discipline Class</th>\n",
       "      <th>HPSA Population Type</th>\n",
       "      <th>HPSA Score</th>\n",
       "      <th>HPSA Status</th>\n",
       "      <th>HPSA Designation Date</th>\n",
       "      <th>HPSA Designation Last Update</th>\n",
       "      <th>Withdrawn Date</th>\n",
       "      <th>...</th>\n",
       "      <th>State</th>\n",
       "      <th>County</th>\n",
       "      <th>HPSA FTE</th>\n",
       "      <th># of FTE Short</th>\n",
       "      <th>HPSA Formal Ratio</th>\n",
       "      <th>HPSA Designation Population</th>\n",
       "      <th>% of Population Below 100% Poverty</th>\n",
       "      <th>Metropolitan Indicator</th>\n",
       "      <th>Rural Status</th>\n",
       "      <th>Multi-County</th>\n",
       "    </tr>\n",
       "  </thead>\n",
       "  <tbody>\n",
       "    <tr>\n",
       "      <th>218</th>\n",
       "      <td>Western Mental Health Institute</td>\n",
       "      <td>7474011436</td>\n",
       "      <td>State Mental Hospital</td>\n",
       "      <td>Mental Health</td>\n",
       "      <td>NaN</td>\n",
       "      <td>12</td>\n",
       "      <td>Proposed For Withdrawal</td>\n",
       "      <td>08/28/2017</td>\n",
       "      <td>03/30/2022</td>\n",
       "      <td>NaN</td>\n",
       "      <td>...</td>\n",
       "      <td>TN</td>\n",
       "      <td>Hardeman County, TN</td>\n",
       "      <td>3.25</td>\n",
       "      <td>NaN</td>\n",
       "      <td>NaN</td>\n",
       "      <td>141.0</td>\n",
       "      <td>NaN</td>\n",
       "      <td>Unknown</td>\n",
       "      <td>Rural</td>\n",
       "      <td>No</td>\n",
       "    </tr>\n",
       "  </tbody>\n",
       "</table>\n",
       "<p>1 rows × 25 columns</p>\n",
       "</div>"
      ],
      "text/plain": [
       "                           HPSA Name     HPSA ID       Designation Type  \\\n",
       "218  Western Mental Health Institute  7474011436  State Mental Hospital   \n",
       "\n",
       "    HPSA Discipline Class HPSA Population Type  HPSA Score  \\\n",
       "218         Mental Health                  NaN          12   \n",
       "\n",
       "                 HPSA Status HPSA Designation Date  \\\n",
       "218  Proposed For Withdrawal            08/28/2017   \n",
       "\n",
       "    HPSA Designation Last Update Withdrawn Date  ...  State  \\\n",
       "218                   03/30/2022            NaN  ...     TN   \n",
       "\n",
       "                  County HPSA FTE # of FTE Short HPSA Formal Ratio  \\\n",
       "218  Hardeman County, TN     3.25            NaN               NaN   \n",
       "\n",
       "    HPSA Designation Population % of Population Below 100% Poverty  \\\n",
       "218                       141.0                                NaN   \n",
       "\n",
       "     Metropolitan Indicator  Rural Status Multi-County  \n",
       "218                 Unknown         Rural           No  \n",
       "\n",
       "[1 rows x 25 columns]"
      ]
     },
     "execution_count": 104,
     "metadata": {},
     "output_type": "execute_result"
    }
   ],
   "source": [
    "tn_rur_hpsa_prop_wi_fac"
   ]
  },
  {
   "cell_type": "code",
   "execution_count": 105,
   "id": "20809253",
   "metadata": {
    "scrolled": true
   },
   "outputs": [
    {
     "data": {
      "text/plain": [
       "Primary Care     8\n",
       "Mental Health    4\n",
       "Name: HPSA Discipline Class, dtype: int64"
      ]
     },
     "execution_count": 105,
     "metadata": {},
     "output_type": "execute_result"
    }
   ],
   "source": [
    "tn_rur_hpsa_prop_wi_geo[~tn_rur_hpsa_prop_wi_geo.duplicated(['HPSA ID'])]['HPSA Discipline Class'].value_counts()"
   ]
  },
  {
   "cell_type": "code",
   "execution_count": 106,
   "id": "439b18dc",
   "metadata": {
    "scrolled": true
   },
   "outputs": [
    {
     "data": {
      "text/plain": [
       "Dental Health    7\n",
       "Primary Care     5\n",
       "Name: HPSA Discipline Class, dtype: int64"
      ]
     },
     "execution_count": 106,
     "metadata": {},
     "output_type": "execute_result"
    }
   ],
   "source": [
    "tn_rur_hpsa_prop_wi_pop[~tn_rur_hpsa_prop_wi_pop.duplicated(['HPSA ID'])]['HPSA Discipline Class'].value_counts()"
   ]
  },
  {
   "cell_type": "code",
   "execution_count": 107,
   "id": "7df0d558",
   "metadata": {
    "scrolled": false
   },
   "outputs": [
    {
     "data": {
      "text/plain": [
       "Robertson County, TN      2\n",
       "Blount County, TN         2\n",
       "Maury County, TN          2\n",
       "Cheatham County, TN       2\n",
       "Trousdale County, TN      1\n",
       "Rutherford County, TN     1\n",
       " Wilson County, TN        1\n",
       "Moore County, TN          1\n",
       "Putnam County, TN         1\n",
       " White County, TN         1\n",
       "Name: County, dtype: int64"
      ]
     },
     "execution_count": 107,
     "metadata": {},
     "output_type": "execute_result"
    }
   ],
   "source": [
    "tn_rur_hpsa_prop_wi_pop['County'].value_counts()"
   ]
  },
  {
   "cell_type": "code",
   "execution_count": 108,
   "id": "12b8c4fb",
   "metadata": {},
   "outputs": [
    {
     "data": {
      "text/plain": [
       "Low Income Population HPSA    12\n",
       "Name: HPSA Population Type, dtype: int64"
      ]
     },
     "execution_count": 108,
     "metadata": {},
     "output_type": "execute_result"
    }
   ],
   "source": [
    "tn_rur_hpsa_prop_wi_pop[~tn_rur_hpsa_prop_wi_pop.duplicated(['HPSA ID'])]['HPSA Population Type'].value_counts()"
   ]
  }
 ],
 "metadata": {
  "kernelspec": {
   "display_name": "Python 3 (ipykernel)",
   "language": "python",
   "name": "python3"
  },
  "language_info": {
   "codemirror_mode": {
    "name": "ipython",
    "version": 3
   },
   "file_extension": ".py",
   "mimetype": "text/x-python",
   "name": "python",
   "nbconvert_exporter": "python",
   "pygments_lexer": "ipython3",
   "version": "3.10.5"
  }
 },
 "nbformat": 4,
 "nbformat_minor": 5
}
