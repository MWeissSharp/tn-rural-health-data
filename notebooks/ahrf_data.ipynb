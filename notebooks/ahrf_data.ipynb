{
 "cells": [
  {
   "cell_type": "code",
   "execution_count": 1,
   "id": "4d3a8f8f",
   "metadata": {},
   "outputs": [],
   "source": [
    "import pandas as pd"
   ]
  },
  {
   "cell_type": "code",
   "execution_count": 2,
   "id": "89f102f8",
   "metadata": {},
   "outputs": [
    {
     "name": "stdout",
     "output_type": "stream",
     "text": [
      "Warning: column count mismatch (149 + 927 != 7418)\n",
      "\n"
     ]
    }
   ],
   "source": [
    "df = pd.read_sas('../capstone_data/AHRF2021.sas7bdat')"
   ]
  },
  {
   "cell_type": "code",
   "execution_count": 3,
   "id": "3860c32f",
   "metadata": {},
   "outputs": [
    {
     "data": {
      "text/html": [
       "<div>\n",
       "<style scoped>\n",
       "    .dataframe tbody tr th:only-of-type {\n",
       "        vertical-align: middle;\n",
       "    }\n",
       "\n",
       "    .dataframe tbody tr th {\n",
       "        vertical-align: top;\n",
       "    }\n",
       "\n",
       "    .dataframe thead th {\n",
       "        text-align: right;\n",
       "    }\n",
       "</style>\n",
       "<table border=\"1\" class=\"dataframe\">\n",
       "  <thead>\n",
       "    <tr style=\"text-align: right;\">\n",
       "      <th></th>\n",
       "      <th>f00001</th>\n",
       "      <th>f00002</th>\n",
       "      <th>f00003</th>\n",
       "      <th>f00004</th>\n",
       "      <th>f00005</th>\n",
       "      <th>f00006</th>\n",
       "      <th>f00007</th>\n",
       "      <th>f00008</th>\n",
       "      <th>f12424</th>\n",
       "      <th>f00010</th>\n",
       "      <th>...</th>\n",
       "      <th>f1533814</th>\n",
       "      <th>f1533813</th>\n",
       "      <th>f1533812</th>\n",
       "      <th>f1533811</th>\n",
       "      <th>f1533810</th>\n",
       "      <th>f1533809</th>\n",
       "      <th>f1533808</th>\n",
       "      <th>f1533807</th>\n",
       "      <th>f1533806</th>\n",
       "      <th>f0081176</th>\n",
       "    </tr>\n",
       "  </thead>\n",
       "  <tbody>\n",
       "    <tr>\n",
       "      <th>0</th>\n",
       "      <td>NaN</td>\n",
       "      <td>b'01001'</td>\n",
       "      <td>b'AHRF'</td>\n",
       "      <td>b'01001'</td>\n",
       "      <td>b'2021'</td>\n",
       "      <td>21212.0</td>\n",
       "      <td>32559.0</td>\n",
       "      <td>b'Alabama'</td>\n",
       "      <td>b'AL'</td>\n",
       "      <td>b'Autauga'</td>\n",
       "      <td>...</td>\n",
       "      <td>0.0</td>\n",
       "      <td>0.0</td>\n",
       "      <td>0.0</td>\n",
       "      <td>0.0</td>\n",
       "      <td>1.0</td>\n",
       "      <td>0.0</td>\n",
       "      <td>0.0</td>\n",
       "      <td>5.0</td>\n",
       "      <td>3.0</td>\n",
       "      <td>290.0</td>\n",
       "    </tr>\n",
       "    <tr>\n",
       "      <th>1</th>\n",
       "      <td>NaN</td>\n",
       "      <td>b'01003'</td>\n",
       "      <td>b'AHRF'</td>\n",
       "      <td>b'01003'</td>\n",
       "      <td>b'2021'</td>\n",
       "      <td>21212.0</td>\n",
       "      <td>32559.0</td>\n",
       "      <td>b'Alabama'</td>\n",
       "      <td>b'AL'</td>\n",
       "      <td>b'Baldwin'</td>\n",
       "      <td>...</td>\n",
       "      <td>2.0</td>\n",
       "      <td>1.0</td>\n",
       "      <td>0.0</td>\n",
       "      <td>2.0</td>\n",
       "      <td>2.0</td>\n",
       "      <td>1.0</td>\n",
       "      <td>2.0</td>\n",
       "      <td>7.0</td>\n",
       "      <td>14.0</td>\n",
       "      <td>155.0</td>\n",
       "    </tr>\n",
       "  </tbody>\n",
       "</table>\n",
       "<p>2 rows × 7418 columns</p>\n",
       "</div>"
      ],
      "text/plain": [
       "  f00001    f00002   f00003    f00004   f00005   f00006   f00007      f00008  \\\n",
       "0    NaN  b'01001'  b'AHRF'  b'01001'  b'2021'  21212.0  32559.0  b'Alabama'   \n",
       "1    NaN  b'01003'  b'AHRF'  b'01003'  b'2021'  21212.0  32559.0  b'Alabama'   \n",
       "\n",
       "  f12424      f00010  ... f1533814 f1533813 f1533812 f1533811 f1533810  \\\n",
       "0  b'AL'  b'Autauga'  ...      0.0      0.0      0.0      0.0      1.0   \n",
       "1  b'AL'  b'Baldwin'  ...      2.0      1.0      0.0      2.0      2.0   \n",
       "\n",
       "  f1533809 f1533808 f1533807 f1533806 f0081176  \n",
       "0      0.0      0.0      5.0      3.0    290.0  \n",
       "1      1.0      2.0      7.0     14.0    155.0  \n",
       "\n",
       "[2 rows x 7418 columns]"
      ]
     },
     "execution_count": 3,
     "metadata": {},
     "output_type": "execute_result"
    }
   ],
   "source": [
    "df.head(2)"
   ]
  },
  {
   "cell_type": "code",
   "execution_count": null,
   "id": "697275e5",
   "metadata": {},
   "outputs": [],
   "source": []
  }
 ],
 "metadata": {
  "kernelspec": {
   "display_name": "Python 3 (ipykernel)",
   "language": "python",
   "name": "python3"
  },
  "language_info": {
   "codemirror_mode": {
    "name": "ipython",
    "version": 3
   },
   "file_extension": ".py",
   "mimetype": "text/x-python",
   "name": "python",
   "nbconvert_exporter": "python",
   "pygments_lexer": "ipython3",
   "version": "3.10.5"
  }
 },
 "nbformat": 4,
 "nbformat_minor": 5
}
